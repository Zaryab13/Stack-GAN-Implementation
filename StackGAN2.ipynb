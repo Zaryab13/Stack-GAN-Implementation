{
 "cells": [
  {
   "cell_type": "code",
   "execution_count": null,
   "metadata": {},
   "outputs": [
    {
     "name": "stdout",
     "output_type": "stream",
     "text": [
      "Embeddings shape: (999, 10, 1, 1024)\n",
      "All embeddings shape: (999, 10, 1, 1024)\n",
      "Embeddings shape: (200, 10, 1, 1024)\n",
      "All embeddings shape: (200, 10, 1, 1024)\n",
      "Embeddings shape: (999, 10, 1, 1024)\n",
      "All embeddings shape: (999, 10, 1, 1024)\n",
      "Embeddings shape: (200, 10, 1, 1024)\n",
      "All embeddings shape: (200, 10, 1, 1024)\n"
     ]
    },
    {
     "name": "stderr",
     "output_type": "stream",
     "text": [
      "c:\\Users\\Windows\\.conda\\envs\\generalEnv\\Lib\\site-packages\\keras\\src\\layers\\activations\\leaky_relu.py:41: UserWarning: Argument `alpha` is deprecated. Use `negative_slope` instead.\n",
      "  warnings.warn(\n",
      "c:\\Users\\Windows\\.conda\\envs\\generalEnv\\Lib\\site-packages\\keras\\src\\saving\\saving_lib.py:757: UserWarning: Skipping variable loading for optimizer 'adam', because it has 2 variables whereas the saved optimizer has 0 variables. \n",
      "  saveable.load_own_variables(weights_store.get(inner_path))\n"
     ]
    },
    {
     "name": "stdout",
     "output_type": "stream",
     "text": [
      "WARNING:tensorflow:From c:\\Users\\Windows\\.conda\\envs\\generalEnv\\Lib\\site-packages\\keras\\src\\backend\\tensorflow\\core.py:216: The name tf.placeholder is deprecated. Please use tf.compat.v1.placeholder instead.\n",
      "\n",
      "========================================\n",
      "Epoch is: 0\n",
      "Number of batches: 249\n",
      "Batch: 1\n"
     ]
    },
    {
     "name": "stderr",
     "output_type": "stream",
     "text": [
      "c:\\Users\\Windows\\.conda\\envs\\generalEnv\\Lib\\site-packages\\keras\\src\\models\\functional.py:237: UserWarning: The structure of `inputs` doesn't match the expected structure.\n",
      "Expected: ['keras_tensor_147']\n",
      "Received: inputs=Tensor(shape=(4, 1024))\n",
      "  warnings.warn(msg)\n",
      "c:\\Users\\Windows\\.conda\\envs\\generalEnv\\Lib\\site-packages\\keras\\src\\models\\functional.py:237: UserWarning: The structure of `inputs` doesn't match the expected structure.\n",
      "Expected: ['keras_tensor_129']\n",
      "Received: inputs=Tensor(shape=(4, 1024))\n",
      "  warnings.warn(msg)\n",
      "c:\\Users\\Windows\\.conda\\envs\\generalEnv\\Lib\\site-packages\\keras\\src\\backend\\tensorflow\\trainer.py:82: UserWarning: The model does not have any trainable weights.\n",
      "  warnings.warn(\"The model does not have any trainable weights.\")\n"
     ]
    },
    {
     "name": "stdout",
     "output_type": "stream",
     "text": [
      "d_loss: 0.6935019493103027\n"
     ]
    },
    {
     "name": "stderr",
     "output_type": "stream",
     "text": [
      "c:\\Users\\Windows\\.conda\\envs\\generalEnv\\Lib\\site-packages\\keras\\src\\models\\functional.py:237: UserWarning: The structure of `inputs` doesn't match the expected structure.\n",
      "Expected: ['keras_tensor_135']\n",
      "Received: inputs=Tensor(shape=(4, 1024))\n",
      "  warnings.warn(msg)\n"
     ]
    },
    {
     "name": "stdout",
     "output_type": "stream",
     "text": [
      "g_loss: [array(0.69690895, dtype=float32), array(0.69412327, dtype=float32), array(0.00139284, dtype=float32)]\n",
      "Batch: 2\n",
      "WARNING:tensorflow:5 out of the last 5 calls to <function TensorFlowTrainer.make_predict_function.<locals>.one_step_on_data_distributed at 0x00000247E3533100> triggered tf.function retracing. Tracing is expensive and the excessive number of tracings could be due to (1) creating @tf.function repeatedly in a loop, (2) passing tensors with different shapes, (3) passing Python objects instead of tensors. For (1), please define your @tf.function outside of the loop. For (2), @tf.function has reduce_retracing=True option that can avoid unnecessary retracing. For (3), please refer to https://www.tensorflow.org/guide/function#controlling_retracing and https://www.tensorflow.org/api_docs/python/tf/function for  more details.\n"
     ]
    },
    {
     "name": "stderr",
     "output_type": "stream",
     "text": [
      "c:\\Users\\Windows\\.conda\\envs\\generalEnv\\Lib\\site-packages\\keras\\src\\models\\functional.py:237: UserWarning: The structure of `inputs` doesn't match the expected structure.\n",
      "Expected: ['keras_tensor_151']\n",
      "Received: inputs=Tensor(shape=(4, 1024))\n",
      "  warnings.warn(msg)\n"
     ]
    },
    {
     "name": "stdout",
     "output_type": "stream",
     "text": [
      "d_loss: 0.6938281655311584\n",
      "g_loss: [array(0.6939399, dtype=float32), array(0.69123304, dtype=float32), array(0.00135346, dtype=float32)]\n",
      "Batch: 3\n",
      "WARNING:tensorflow:6 out of the last 9 calls to <function TensorFlowTrainer.make_predict_function.<locals>.one_step_on_data_distributed at 0x00000247E4AA56C0> triggered tf.function retracing. Tracing is expensive and the excessive number of tracings could be due to (1) creating @tf.function repeatedly in a loop, (2) passing tensors with different shapes, (3) passing Python objects instead of tensors. For (1), please define your @tf.function outside of the loop. For (2), @tf.function has reduce_retracing=True option that can avoid unnecessary retracing. For (3), please refer to https://www.tensorflow.org/guide/function#controlling_retracing and https://www.tensorflow.org/api_docs/python/tf/function for  more details.\n"
     ]
    },
    {
     "name": "stderr",
     "output_type": "stream",
     "text": [
      "c:\\Users\\Windows\\.conda\\envs\\generalEnv\\Lib\\site-packages\\keras\\src\\models\\functional.py:237: UserWarning: The structure of `inputs` doesn't match the expected structure.\n",
      "Expected: ['keras_tensor_155']\n",
      "Received: inputs=Tensor(shape=(4, 1024))\n",
      "  warnings.warn(msg)\n"
     ]
    },
    {
     "name": "stdout",
     "output_type": "stream",
     "text": [
      "d_loss: 0.6934889853000641\n",
      "g_loss: [array(0.69074124, dtype=float32), array(0.6881838, dtype=float32), array(0.00127871, dtype=float32)]\n",
      "Batch: 4\n"
     ]
    },
    {
     "name": "stderr",
     "output_type": "stream",
     "text": [
      "c:\\Users\\Windows\\.conda\\envs\\generalEnv\\Lib\\site-packages\\keras\\src\\models\\functional.py:237: UserWarning: The structure of `inputs` doesn't match the expected structure.\n",
      "Expected: ['keras_tensor_159']\n",
      "Received: inputs=Tensor(shape=(4, 1024))\n",
      "  warnings.warn(msg)\n"
     ]
    },
    {
     "name": "stdout",
     "output_type": "stream",
     "text": [
      "d_loss: 0.6936494708061218\n",
      "g_loss: [array(0.68780315, dtype=float32), array(0.6853397, dtype=float32), array(0.00123172, dtype=float32)]\n",
      "Batch: 5\n"
     ]
    },
    {
     "name": "stderr",
     "output_type": "stream",
     "text": [
      "c:\\Users\\Windows\\.conda\\envs\\generalEnv\\Lib\\site-packages\\keras\\src\\models\\functional.py:237: UserWarning: The structure of `inputs` doesn't match the expected structure.\n",
      "Expected: ['keras_tensor_163']\n",
      "Received: inputs=Tensor(shape=(4, 1024))\n",
      "  warnings.warn(msg)\n"
     ]
    },
    {
     "name": "stdout",
     "output_type": "stream",
     "text": [
      "d_loss: 0.6936996281147003\n",
      "g_loss: [array(0.6835125, dtype=float32), array(0.6811755, dtype=float32), array(0.00116849, dtype=float32)]\n",
      "Batch: 6\n"
     ]
    },
    {
     "name": "stderr",
     "output_type": "stream",
     "text": [
      "c:\\Users\\Windows\\.conda\\envs\\generalEnv\\Lib\\site-packages\\keras\\src\\models\\functional.py:237: UserWarning: The structure of `inputs` doesn't match the expected structure.\n",
      "Expected: ['keras_tensor_167']\n",
      "Received: inputs=Tensor(shape=(4, 1024))\n",
      "  warnings.warn(msg)\n"
     ]
    },
    {
     "name": "stdout",
     "output_type": "stream",
     "text": [
      "d_loss: 0.6940489113330841\n",
      "g_loss: [array(0.68146133, dtype=float32), array(0.67916465, dtype=float32), array(0.00114829, dtype=float32)]\n",
      "Batch: 7\n"
     ]
    },
    {
     "name": "stderr",
     "output_type": "stream",
     "text": [
      "c:\\Users\\Windows\\.conda\\envs\\generalEnv\\Lib\\site-packages\\keras\\src\\models\\functional.py:237: UserWarning: The structure of `inputs` doesn't match the expected structure.\n",
      "Expected: ['keras_tensor_171']\n",
      "Received: inputs=Tensor(shape=(4, 1024))\n",
      "  warnings.warn(msg)\n"
     ]
    },
    {
     "name": "stdout",
     "output_type": "stream",
     "text": [
      "d_loss: 0.6937856376171112\n",
      "g_loss: [array(0.6793299, dtype=float32), array(0.6770407, dtype=float32), array(0.00114452, dtype=float32)]\n",
      "Batch: 8\n"
     ]
    },
    {
     "name": "stderr",
     "output_type": "stream",
     "text": [
      "c:\\Users\\Windows\\.conda\\envs\\generalEnv\\Lib\\site-packages\\keras\\src\\models\\functional.py:237: UserWarning: The structure of `inputs` doesn't match the expected structure.\n",
      "Expected: ['keras_tensor_175']\n",
      "Received: inputs=Tensor(shape=(4, 1024))\n",
      "  warnings.warn(msg)\n"
     ]
    },
    {
     "name": "stdout",
     "output_type": "stream",
     "text": [
      "d_loss: 0.6935986578464508\n",
      "g_loss: [array(0.67660064, dtype=float32), array(0.6743267, dtype=float32), array(0.00113691, dtype=float32)]\n",
      "Batch: 9\n"
     ]
    },
    {
     "name": "stderr",
     "output_type": "stream",
     "text": [
      "c:\\Users\\Windows\\.conda\\envs\\generalEnv\\Lib\\site-packages\\keras\\src\\models\\functional.py:237: UserWarning: The structure of `inputs` doesn't match the expected structure.\n",
      "Expected: ['keras_tensor_179']\n",
      "Received: inputs=Tensor(shape=(4, 1024))\n",
      "  warnings.warn(msg)\n"
     ]
    },
    {
     "name": "stdout",
     "output_type": "stream",
     "text": [
      "d_loss: 0.693640261888504\n",
      "g_loss: [array(0.67384416, dtype=float32), array(0.6716233, dtype=float32), array(0.00111042, dtype=float32)]\n",
      "Batch: 10\n"
     ]
    },
    {
     "name": "stderr",
     "output_type": "stream",
     "text": [
      "c:\\Users\\Windows\\.conda\\envs\\generalEnv\\Lib\\site-packages\\keras\\src\\models\\functional.py:237: UserWarning: The structure of `inputs` doesn't match the expected structure.\n",
      "Expected: ['keras_tensor_183']\n",
      "Received: inputs=Tensor(shape=(4, 1024))\n",
      "  warnings.warn(msg)\n"
     ]
    },
    {
     "name": "stdout",
     "output_type": "stream",
     "text": [
      "d_loss: 0.6936181485652924\n",
      "g_loss: [array(0.67133063, dtype=float32), array(0.66914594, dtype=float32), array(0.00109232, dtype=float32)]\n",
      "Batch: 11\n"
     ]
    },
    {
     "name": "stderr",
     "output_type": "stream",
     "text": [
      "c:\\Users\\Windows\\.conda\\envs\\generalEnv\\Lib\\site-packages\\keras\\src\\models\\functional.py:237: UserWarning: The structure of `inputs` doesn't match the expected structure.\n",
      "Expected: ['keras_tensor_187']\n",
      "Received: inputs=Tensor(shape=(4, 1024))\n",
      "  warnings.warn(msg)\n"
     ]
    },
    {
     "name": "stdout",
     "output_type": "stream",
     "text": [
      "d_loss: 0.6936417818069458\n",
      "g_loss: [array(0.6691017, dtype=float32), array(0.66694236, dtype=float32), array(0.00107968, dtype=float32)]\n",
      "Batch: 12\n"
     ]
    },
    {
     "name": "stderr",
     "output_type": "stream",
     "text": [
      "c:\\Users\\Windows\\.conda\\envs\\generalEnv\\Lib\\site-packages\\keras\\src\\models\\functional.py:237: UserWarning: The structure of `inputs` doesn't match the expected structure.\n",
      "Expected: ['keras_tensor_191']\n",
      "Received: inputs=Tensor(shape=(4, 1024))\n",
      "  warnings.warn(msg)\n"
     ]
    },
    {
     "name": "stdout",
     "output_type": "stream",
     "text": [
      "d_loss: 0.6936499774456024\n",
      "g_loss: [array(0.66718036, dtype=float32), array(0.6650315, dtype=float32), array(0.00107446, dtype=float32)]\n",
      "Batch: 13\n"
     ]
    },
    {
     "name": "stderr",
     "output_type": "stream",
     "text": [
      "c:\\Users\\Windows\\.conda\\envs\\generalEnv\\Lib\\site-packages\\keras\\src\\models\\functional.py:237: UserWarning: The structure of `inputs` doesn't match the expected structure.\n",
      "Expected: ['keras_tensor_195']\n",
      "Received: inputs=Tensor(shape=(4, 1024))\n",
      "  warnings.warn(msg)\n"
     ]
    },
    {
     "name": "stdout",
     "output_type": "stream",
     "text": [
      "d_loss: 0.6935150325298309\n",
      "g_loss: [array(0.66460127, dtype=float32), array(0.6625073, dtype=float32), array(0.00104699, dtype=float32)]\n",
      "Batch: 14\n"
     ]
    },
    {
     "name": "stderr",
     "output_type": "stream",
     "text": [
      "c:\\Users\\Windows\\.conda\\envs\\generalEnv\\Lib\\site-packages\\keras\\src\\models\\functional.py:237: UserWarning: The structure of `inputs` doesn't match the expected structure.\n",
      "Expected: ['keras_tensor_199']\n",
      "Received: inputs=Tensor(shape=(4, 1024))\n",
      "  warnings.warn(msg)\n"
     ]
    },
    {
     "name": "stdout",
     "output_type": "stream",
     "text": [
      "d_loss: 0.6935878098011017\n",
      "g_loss: [array(0.66217655, dtype=float32), array(0.66010696, dtype=float32), array(0.00103479, dtype=float32)]\n",
      "Batch: 15\n"
     ]
    },
    {
     "name": "stderr",
     "output_type": "stream",
     "text": [
      "c:\\Users\\Windows\\.conda\\envs\\generalEnv\\Lib\\site-packages\\keras\\src\\models\\functional.py:237: UserWarning: The structure of `inputs` doesn't match the expected structure.\n",
      "Expected: ['keras_tensor_203']\n",
      "Received: inputs=Tensor(shape=(4, 1024))\n",
      "  warnings.warn(msg)\n"
     ]
    },
    {
     "name": "stdout",
     "output_type": "stream",
     "text": [
      "d_loss: 0.6936587393283844\n",
      "g_loss: [array(0.6595732, dtype=float32), array(0.65756035, dtype=float32), array(0.00100639, dtype=float32)]\n",
      "Batch: 16\n"
     ]
    },
    {
     "name": "stderr",
     "output_type": "stream",
     "text": [
      "c:\\Users\\Windows\\.conda\\envs\\generalEnv\\Lib\\site-packages\\keras\\src\\models\\functional.py:237: UserWarning: The structure of `inputs` doesn't match the expected structure.\n",
      "Expected: ['keras_tensor_207']\n",
      "Received: inputs=Tensor(shape=(4, 1024))\n",
      "  warnings.warn(msg)\n"
     ]
    },
    {
     "name": "stdout",
     "output_type": "stream",
     "text": [
      "d_loss: 0.6937112212181091\n",
      "g_loss: [array(0.65722084, dtype=float32), array(0.6552414, dtype=float32), array(0.00098973, dtype=float32)]\n",
      "Batch: 17\n"
     ]
    },
    {
     "name": "stderr",
     "output_type": "stream",
     "text": [
      "c:\\Users\\Windows\\.conda\\envs\\generalEnv\\Lib\\site-packages\\keras\\src\\models\\functional.py:237: UserWarning: The structure of `inputs` doesn't match the expected structure.\n",
      "Expected: ['keras_tensor_211']\n",
      "Received: inputs=Tensor(shape=(4, 1024))\n",
      "  warnings.warn(msg)\n"
     ]
    },
    {
     "name": "stdout",
     "output_type": "stream",
     "text": [
      "d_loss: 0.693659245967865\n",
      "g_loss: [array(0.6548009, dtype=float32), array(0.65286815, dtype=float32), array(0.0009664, dtype=float32)]\n",
      "Batch: 18\n"
     ]
    },
    {
     "name": "stderr",
     "output_type": "stream",
     "text": [
      "c:\\Users\\Windows\\.conda\\envs\\generalEnv\\Lib\\site-packages\\keras\\src\\models\\functional.py:237: UserWarning: The structure of `inputs` doesn't match the expected structure.\n",
      "Expected: ['keras_tensor_215']\n",
      "Received: inputs=Tensor(shape=(4, 1024))\n",
      "  warnings.warn(msg)\n"
     ]
    },
    {
     "name": "stdout",
     "output_type": "stream",
     "text": [
      "d_loss: 0.6936854422092438\n",
      "g_loss: [array(0.65220314, dtype=float32), array(0.65032256, dtype=float32), array(0.00094032, dtype=float32)]\n",
      "Batch: 19\n"
     ]
    },
    {
     "name": "stderr",
     "output_type": "stream",
     "text": [
      "c:\\Users\\Windows\\.conda\\envs\\generalEnv\\Lib\\site-packages\\keras\\src\\models\\functional.py:237: UserWarning: The structure of `inputs` doesn't match the expected structure.\n",
      "Expected: ['keras_tensor_219']\n",
      "Received: inputs=Tensor(shape=(4, 1024))\n",
      "  warnings.warn(msg)\n"
     ]
    },
    {
     "name": "stdout",
     "output_type": "stream",
     "text": [
      "d_loss: 0.6937638223171234\n",
      "g_loss: [array(0.64994115, dtype=float32), array(0.64808244, dtype=float32), array(0.00092938, dtype=float32)]\n",
      "Batch: 20\n"
     ]
    },
    {
     "name": "stderr",
     "output_type": "stream",
     "text": [
      "c:\\Users\\Windows\\.conda\\envs\\generalEnv\\Lib\\site-packages\\keras\\src\\models\\functional.py:237: UserWarning: The structure of `inputs` doesn't match the expected structure.\n",
      "Expected: ['keras_tensor_223']\n",
      "Received: inputs=Tensor(shape=(4, 1024))\n",
      "  warnings.warn(msg)\n"
     ]
    },
    {
     "name": "stdout",
     "output_type": "stream",
     "text": [
      "d_loss: 0.693725973367691\n",
      "g_loss: [array(0.64764065, dtype=float32), array(0.64580524, dtype=float32), array(0.00091771, dtype=float32)]\n",
      "Batch: 21\n"
     ]
    },
    {
     "name": "stderr",
     "output_type": "stream",
     "text": [
      "c:\\Users\\Windows\\.conda\\envs\\generalEnv\\Lib\\site-packages\\keras\\src\\models\\functional.py:237: UserWarning: The structure of `inputs` doesn't match the expected structure.\n",
      "Expected: ['keras_tensor_227']\n",
      "Received: inputs=Tensor(shape=(4, 1024))\n",
      "  warnings.warn(msg)\n"
     ]
    },
    {
     "name": "stdout",
     "output_type": "stream",
     "text": [
      "d_loss: 0.6937370598316193\n",
      "g_loss: [array(0.6453757, dtype=float32), array(0.64356244, dtype=float32), array(0.00090664, dtype=float32)]\n",
      "Batch: 22\n"
     ]
    },
    {
     "name": "stderr",
     "output_type": "stream",
     "text": [
      "c:\\Users\\Windows\\.conda\\envs\\generalEnv\\Lib\\site-packages\\keras\\src\\models\\functional.py:237: UserWarning: The structure of `inputs` doesn't match the expected structure.\n",
      "Expected: ['keras_tensor_231']\n",
      "Received: inputs=Tensor(shape=(4, 1024))\n",
      "  warnings.warn(msg)\n"
     ]
    },
    {
     "name": "stdout",
     "output_type": "stream",
     "text": [
      "d_loss: 0.6937271952629089\n",
      "g_loss: [array(0.64325845, dtype=float32), array(0.641477, dtype=float32), array(0.00089073, dtype=float32)]\n",
      "Batch: 23\n"
     ]
    },
    {
     "name": "stderr",
     "output_type": "stream",
     "text": [
      "c:\\Users\\Windows\\.conda\\envs\\generalEnv\\Lib\\site-packages\\keras\\src\\models\\functional.py:237: UserWarning: The structure of `inputs` doesn't match the expected structure.\n",
      "Expected: ['keras_tensor_235']\n",
      "Received: inputs=Tensor(shape=(4, 1024))\n",
      "  warnings.warn(msg)\n"
     ]
    },
    {
     "name": "stdout",
     "output_type": "stream",
     "text": [
      "d_loss: 0.6937021613121033\n",
      "g_loss: [array(0.64098376, dtype=float32), array(0.63923585, dtype=float32), array(0.00087396, dtype=float32)]\n",
      "Batch: 24\n"
     ]
    },
    {
     "name": "stderr",
     "output_type": "stream",
     "text": [
      "c:\\Users\\Windows\\.conda\\envs\\generalEnv\\Lib\\site-packages\\keras\\src\\models\\functional.py:237: UserWarning: The structure of `inputs` doesn't match the expected structure.\n",
      "Expected: ['keras_tensor_239']\n",
      "Received: inputs=Tensor(shape=(4, 1024))\n",
      "  warnings.warn(msg)\n"
     ]
    },
    {
     "name": "stdout",
     "output_type": "stream",
     "text": [
      "d_loss: 0.693714052438736\n",
      "g_loss: [array(0.63874465, dtype=float32), array(0.6370219, dtype=float32), array(0.00086141, dtype=float32)]\n",
      "Batch: 25\n"
     ]
    },
    {
     "name": "stderr",
     "output_type": "stream",
     "text": [
      "c:\\Users\\Windows\\.conda\\envs\\generalEnv\\Lib\\site-packages\\keras\\src\\models\\functional.py:237: UserWarning: The structure of `inputs` doesn't match the expected structure.\n",
      "Expected: ['keras_tensor_243']\n",
      "Received: inputs=Tensor(shape=(4, 1024))\n",
      "  warnings.warn(msg)\n"
     ]
    },
    {
     "name": "stdout",
     "output_type": "stream",
     "text": [
      "d_loss: 0.6936866641044617\n",
      "g_loss: [array(0.6365511, dtype=float32), array(0.6348631, dtype=float32), array(0.00084399, dtype=float32)]\n",
      "Batch: 26\n"
     ]
    },
    {
     "name": "stderr",
     "output_type": "stream",
     "text": [
      "c:\\Users\\Windows\\.conda\\envs\\generalEnv\\Lib\\site-packages\\keras\\src\\models\\functional.py:237: UserWarning: The structure of `inputs` doesn't match the expected structure.\n",
      "Expected: ['keras_tensor_247']\n",
      "Received: inputs=Tensor(shape=(4, 1024))\n",
      "  warnings.warn(msg)\n"
     ]
    },
    {
     "name": "stdout",
     "output_type": "stream",
     "text": [
      "d_loss: 0.6936585307121277\n",
      "g_loss: [array(0.6343547, dtype=float32), array(0.63269264, dtype=float32), array(0.00083108, dtype=float32)]\n",
      "Batch: 27\n"
     ]
    },
    {
     "name": "stderr",
     "output_type": "stream",
     "text": [
      "c:\\Users\\Windows\\.conda\\envs\\generalEnv\\Lib\\site-packages\\keras\\src\\models\\functional.py:237: UserWarning: The structure of `inputs` doesn't match the expected structure.\n",
      "Expected: ['keras_tensor_251']\n",
      "Received: inputs=Tensor(shape=(4, 1024))\n",
      "  warnings.warn(msg)\n"
     ]
    },
    {
     "name": "stdout",
     "output_type": "stream",
     "text": [
      "d_loss: 0.6937191784381866\n",
      "g_loss: [array(0.6323371, dtype=float32), array(0.63069814, dtype=float32), array(0.0008195, dtype=float32)]\n",
      "Batch: 28\n"
     ]
    },
    {
     "name": "stderr",
     "output_type": "stream",
     "text": [
      "c:\\Users\\Windows\\.conda\\envs\\generalEnv\\Lib\\site-packages\\keras\\src\\models\\functional.py:237: UserWarning: The structure of `inputs` doesn't match the expected structure.\n",
      "Expected: ['keras_tensor_255']\n",
      "Received: inputs=Tensor(shape=(4, 1024))\n",
      "  warnings.warn(msg)\n"
     ]
    },
    {
     "name": "stdout",
     "output_type": "stream",
     "text": [
      "d_loss: 0.6937025189399719\n",
      "g_loss: [array(0.6304354, dtype=float32), array(0.6288299, dtype=float32), array(0.00080279, dtype=float32)]\n",
      "Batch: 29\n"
     ]
    },
    {
     "name": "stderr",
     "output_type": "stream",
     "text": [
      "c:\\Users\\Windows\\.conda\\envs\\generalEnv\\Lib\\site-packages\\keras\\src\\models\\functional.py:237: UserWarning: The structure of `inputs` doesn't match the expected structure.\n",
      "Expected: ['keras_tensor_259']\n",
      "Received: inputs=Tensor(shape=(4, 1024))\n",
      "  warnings.warn(msg)\n"
     ]
    },
    {
     "name": "stdout",
     "output_type": "stream",
     "text": [
      "d_loss: 0.6937188506126404\n",
      "g_loss: [array(0.6285771, dtype=float32), array(0.626997, dtype=float32), array(0.00079011, dtype=float32)]\n",
      "Batch: 30\n"
     ]
    },
    {
     "name": "stderr",
     "output_type": "stream",
     "text": [
      "c:\\Users\\Windows\\.conda\\envs\\generalEnv\\Lib\\site-packages\\keras\\src\\models\\functional.py:237: UserWarning: The structure of `inputs` doesn't match the expected structure.\n",
      "Expected: ['keras_tensor_263']\n",
      "Received: inputs=Tensor(shape=(4, 1024))\n",
      "  warnings.warn(msg)\n"
     ]
    },
    {
     "name": "stdout",
     "output_type": "stream",
     "text": [
      "d_loss: 0.6936908066272736\n",
      "g_loss: [array(0.6267401, dtype=float32), array(0.6251736, dtype=float32), array(0.00078325, dtype=float32)]\n",
      "Batch: 31\n"
     ]
    },
    {
     "name": "stderr",
     "output_type": "stream",
     "text": [
      "c:\\Users\\Windows\\.conda\\envs\\generalEnv\\Lib\\site-packages\\keras\\src\\models\\functional.py:237: UserWarning: The structure of `inputs` doesn't match the expected structure.\n",
      "Expected: ['keras_tensor_267']\n",
      "Received: inputs=Tensor(shape=(4, 1024))\n",
      "  warnings.warn(msg)\n"
     ]
    },
    {
     "name": "stdout",
     "output_type": "stream",
     "text": [
      "d_loss: 0.6936532855033875\n",
      "g_loss: [array(0.6248085, dtype=float32), array(0.6232568, dtype=float32), array(0.00077583, dtype=float32)]\n",
      "Batch: 32\n"
     ]
    },
    {
     "name": "stderr",
     "output_type": "stream",
     "text": [
      "c:\\Users\\Windows\\.conda\\envs\\generalEnv\\Lib\\site-packages\\keras\\src\\models\\functional.py:237: UserWarning: The structure of `inputs` doesn't match the expected structure.\n",
      "Expected: ['keras_tensor_271']\n",
      "Received: inputs=Tensor(shape=(4, 1024))\n",
      "  warnings.warn(msg)\n"
     ]
    },
    {
     "name": "stdout",
     "output_type": "stream",
     "text": [
      "d_loss: 0.6936210691928864\n",
      "g_loss: [array(0.62288487, dtype=float32), array(0.6213484, dtype=float32), array(0.00076825, dtype=float32)]\n",
      "Batch: 33\n"
     ]
    },
    {
     "name": "stderr",
     "output_type": "stream",
     "text": [
      "c:\\Users\\Windows\\.conda\\envs\\generalEnv\\Lib\\site-packages\\keras\\src\\models\\functional.py:237: UserWarning: The structure of `inputs` doesn't match the expected structure.\n",
      "Expected: ['keras_tensor_275']\n",
      "Received: inputs=Tensor(shape=(4, 1024))\n",
      "  warnings.warn(msg)\n"
     ]
    },
    {
     "name": "stdout",
     "output_type": "stream",
     "text": [
      "d_loss: 0.6936254501342773\n",
      "g_loss: [array(0.6210685, dtype=float32), array(0.6195381, dtype=float32), array(0.0007652, dtype=float32)]\n",
      "Batch: 34\n"
     ]
    },
    {
     "name": "stderr",
     "output_type": "stream",
     "text": [
      "c:\\Users\\Windows\\.conda\\envs\\generalEnv\\Lib\\site-packages\\keras\\src\\models\\functional.py:237: UserWarning: The structure of `inputs` doesn't match the expected structure.\n",
      "Expected: ['keras_tensor_279']\n",
      "Received: inputs=Tensor(shape=(4, 1024))\n",
      "  warnings.warn(msg)\n"
     ]
    },
    {
     "name": "stdout",
     "output_type": "stream",
     "text": [
      "d_loss: 0.6935940682888031\n",
      "g_loss: [array(0.6192703, dtype=float32), array(0.61774886, dtype=float32), array(0.00076074, dtype=float32)]\n",
      "Batch: 35\n"
     ]
    },
    {
     "name": "stderr",
     "output_type": "stream",
     "text": [
      "c:\\Users\\Windows\\.conda\\envs\\generalEnv\\Lib\\site-packages\\keras\\src\\models\\functional.py:237: UserWarning: The structure of `inputs` doesn't match the expected structure.\n",
      "Expected: ['keras_tensor_283']\n",
      "Received: inputs=Tensor(shape=(4, 1024))\n",
      "  warnings.warn(msg)\n"
     ]
    },
    {
     "name": "stdout",
     "output_type": "stream",
     "text": [
      "d_loss: 0.6936134397983551\n",
      "g_loss: [array(0.6175208, dtype=float32), array(0.6160154, dtype=float32), array(0.00075275, dtype=float32)]\n",
      "Batch: 36\n"
     ]
    },
    {
     "name": "stderr",
     "output_type": "stream",
     "text": [
      "c:\\Users\\Windows\\.conda\\envs\\generalEnv\\Lib\\site-packages\\keras\\src\\models\\functional.py:237: UserWarning: The structure of `inputs` doesn't match the expected structure.\n",
      "Expected: ['keras_tensor_287']\n",
      "Received: inputs=Tensor(shape=(4, 1024))\n",
      "  warnings.warn(msg)\n"
     ]
    },
    {
     "name": "stdout",
     "output_type": "stream",
     "text": [
      "d_loss: 0.6936029195785522\n",
      "g_loss: [array(0.61595297, dtype=float32), array(0.61446434, dtype=float32), array(0.00074433, dtype=float32)]\n",
      "Batch: 37\n"
     ]
    },
    {
     "name": "stderr",
     "output_type": "stream",
     "text": [
      "c:\\Users\\Windows\\.conda\\envs\\generalEnv\\Lib\\site-packages\\keras\\src\\models\\functional.py:237: UserWarning: The structure of `inputs` doesn't match the expected structure.\n",
      "Expected: ['keras_tensor_291']\n",
      "Received: inputs=Tensor(shape=(4, 1024))\n",
      "  warnings.warn(msg)\n"
     ]
    },
    {
     "name": "stdout",
     "output_type": "stream",
     "text": [
      "d_loss: 0.693556398153305\n",
      "g_loss: [array(0.6145251, dtype=float32), array(0.613047, dtype=float32), array(0.00073905, dtype=float32)]\n",
      "Batch: 38\n"
     ]
    },
    {
     "name": "stderr",
     "output_type": "stream",
     "text": [
      "c:\\Users\\Windows\\.conda\\envs\\generalEnv\\Lib\\site-packages\\keras\\src\\models\\functional.py:237: UserWarning: The structure of `inputs` doesn't match the expected structure.\n",
      "Expected: ['keras_tensor_295']\n",
      "Received: inputs=Tensor(shape=(4, 1024))\n",
      "  warnings.warn(msg)\n"
     ]
    },
    {
     "name": "stdout",
     "output_type": "stream",
     "text": [
      "d_loss: 0.6935348808765411\n",
      "g_loss: [array(0.61292017, dtype=float32), array(0.6114594, dtype=float32), array(0.00073041, dtype=float32)]\n",
      "Batch: 39\n"
     ]
    },
    {
     "name": "stderr",
     "output_type": "stream",
     "text": [
      "c:\\Users\\Windows\\.conda\\envs\\generalEnv\\Lib\\site-packages\\keras\\src\\models\\functional.py:237: UserWarning: The structure of `inputs` doesn't match the expected structure.\n",
      "Expected: ['keras_tensor_299']\n",
      "Received: inputs=Tensor(shape=(4, 1024))\n",
      "  warnings.warn(msg)\n"
     ]
    },
    {
     "name": "stdout",
     "output_type": "stream",
     "text": [
      "d_loss: 0.6935099065303802\n",
      "g_loss: [array(0.61115736, dtype=float32), array(0.6097136, dtype=float32), array(0.00072188, dtype=float32)]\n",
      "Batch: 40\n"
     ]
    },
    {
     "name": "stderr",
     "output_type": "stream",
     "text": [
      "c:\\Users\\Windows\\.conda\\envs\\generalEnv\\Lib\\site-packages\\keras\\src\\models\\functional.py:237: UserWarning: The structure of `inputs` doesn't match the expected structure.\n",
      "Expected: ['keras_tensor_303']\n",
      "Received: inputs=Tensor(shape=(4, 1024))\n",
      "  warnings.warn(msg)\n"
     ]
    },
    {
     "name": "stdout",
     "output_type": "stream",
     "text": [
      "d_loss: 0.6934844553470612\n",
      "g_loss: [array(0.6094496, dtype=float32), array(0.6080216, dtype=float32), array(0.00071401, dtype=float32)]\n",
      "Batch: 41\n"
     ]
    },
    {
     "name": "stderr",
     "output_type": "stream",
     "text": [
      "c:\\Users\\Windows\\.conda\\envs\\generalEnv\\Lib\\site-packages\\keras\\src\\models\\functional.py:237: UserWarning: The structure of `inputs` doesn't match the expected structure.\n",
      "Expected: ['keras_tensor_307']\n",
      "Received: inputs=Tensor(shape=(4, 1024))\n",
      "  warnings.warn(msg)\n"
     ]
    },
    {
     "name": "stdout",
     "output_type": "stream",
     "text": [
      "d_loss: 0.6934787034988403\n",
      "g_loss: [array(0.6077413, dtype=float32), array(0.60632694, dtype=float32), array(0.00070721, dtype=float32)]\n",
      "Batch: 42\n"
     ]
    },
    {
     "name": "stderr",
     "output_type": "stream",
     "text": [
      "c:\\Users\\Windows\\.conda\\envs\\generalEnv\\Lib\\site-packages\\keras\\src\\models\\functional.py:237: UserWarning: The structure of `inputs` doesn't match the expected structure.\n",
      "Expected: ['keras_tensor_311']\n",
      "Received: inputs=Tensor(shape=(4, 1024))\n",
      "  warnings.warn(msg)\n"
     ]
    },
    {
     "name": "stdout",
     "output_type": "stream",
     "text": [
      "d_loss: 0.6934678554534912\n",
      "g_loss: [array(0.6060626, dtype=float32), array(0.6046672, dtype=float32), array(0.00069773, dtype=float32)]\n",
      "Batch: 43\n"
     ]
    },
    {
     "name": "stderr",
     "output_type": "stream",
     "text": [
      "c:\\Users\\Windows\\.conda\\envs\\generalEnv\\Lib\\site-packages\\keras\\src\\models\\functional.py:237: UserWarning: The structure of `inputs` doesn't match the expected structure.\n",
      "Expected: ['keras_tensor_315']\n",
      "Received: inputs=Tensor(shape=(4, 1024))\n",
      "  warnings.warn(msg)\n"
     ]
    },
    {
     "name": "stdout",
     "output_type": "stream",
     "text": [
      "d_loss: 0.6934662461280823\n",
      "g_loss: [array(0.6043967, dtype=float32), array(0.6030136, dtype=float32), array(0.00069159, dtype=float32)]\n",
      "Batch: 44\n"
     ]
    },
    {
     "name": "stderr",
     "output_type": "stream",
     "text": [
      "c:\\Users\\Windows\\.conda\\envs\\generalEnv\\Lib\\site-packages\\keras\\src\\models\\functional.py:237: UserWarning: The structure of `inputs` doesn't match the expected structure.\n",
      "Expected: ['keras_tensor_319']\n",
      "Received: inputs=Tensor(shape=(4, 1024))\n",
      "  warnings.warn(msg)\n"
     ]
    },
    {
     "name": "stdout",
     "output_type": "stream",
     "text": [
      "d_loss: 0.6934464275836945\n",
      "g_loss: [array(0.60264933, dtype=float32), array(0.6012776, dtype=float32), array(0.00068591, dtype=float32)]\n",
      "Batch: 45\n"
     ]
    },
    {
     "name": "stderr",
     "output_type": "stream",
     "text": [
      "c:\\Users\\Windows\\.conda\\envs\\generalEnv\\Lib\\site-packages\\keras\\src\\models\\functional.py:237: UserWarning: The structure of `inputs` doesn't match the expected structure.\n",
      "Expected: ['keras_tensor_323']\n",
      "Received: inputs=Tensor(shape=(4, 1024))\n",
      "  warnings.warn(msg)\n"
     ]
    },
    {
     "name": "stdout",
     "output_type": "stream",
     "text": [
      "d_loss: 0.6934681832790375\n",
      "g_loss: [array(0.6009522, dtype=float32), array(0.5995947, dtype=float32), array(0.00067879, dtype=float32)]\n",
      "Batch: 46\n"
     ]
    },
    {
     "name": "stderr",
     "output_type": "stream",
     "text": [
      "c:\\Users\\Windows\\.conda\\envs\\generalEnv\\Lib\\site-packages\\keras\\src\\models\\functional.py:237: UserWarning: The structure of `inputs` doesn't match the expected structure.\n",
      "Expected: ['keras_tensor_327']\n",
      "Received: inputs=Tensor(shape=(4, 1024))\n",
      "  warnings.warn(msg)\n"
     ]
    },
    {
     "name": "stdout",
     "output_type": "stream",
     "text": [
      "d_loss: 0.6934376657009125\n",
      "g_loss: [array(0.5991947, dtype=float32), array(0.597848, dtype=float32), array(0.00067336, dtype=float32)]\n",
      "Batch: 47\n"
     ]
    },
    {
     "name": "stderr",
     "output_type": "stream",
     "text": [
      "c:\\Users\\Windows\\.conda\\envs\\generalEnv\\Lib\\site-packages\\keras\\src\\models\\functional.py:237: UserWarning: The structure of `inputs` doesn't match the expected structure.\n",
      "Expected: ['keras_tensor_331']\n",
      "Received: inputs=Tensor(shape=(4, 1024))\n",
      "  warnings.warn(msg)\n"
     ]
    },
    {
     "name": "stdout",
     "output_type": "stream",
     "text": [
      "d_loss: 0.6934785544872284\n",
      "g_loss: [array(0.597542, dtype=float32), array(0.59620595, dtype=float32), array(0.00066807, dtype=float32)]\n",
      "Batch: 48\n"
     ]
    },
    {
     "name": "stderr",
     "output_type": "stream",
     "text": [
      "c:\\Users\\Windows\\.conda\\envs\\generalEnv\\Lib\\site-packages\\keras\\src\\models\\functional.py:237: UserWarning: The structure of `inputs` doesn't match the expected structure.\n",
      "Expected: ['keras_tensor_335']\n",
      "Received: inputs=Tensor(shape=(4, 1024))\n",
      "  warnings.warn(msg)\n"
     ]
    },
    {
     "name": "stdout",
     "output_type": "stream",
     "text": [
      "d_loss: 0.6934883892536163\n",
      "g_loss: [array(0.5958733, dtype=float32), array(0.59455174, dtype=float32), array(0.00066081, dtype=float32)]\n",
      "Batch: 49\n"
     ]
    },
    {
     "name": "stderr",
     "output_type": "stream",
     "text": [
      "c:\\Users\\Windows\\.conda\\envs\\generalEnv\\Lib\\site-packages\\keras\\src\\models\\functional.py:237: UserWarning: The structure of `inputs` doesn't match the expected structure.\n",
      "Expected: ['keras_tensor_339']\n",
      "Received: inputs=Tensor(shape=(4, 1024))\n",
      "  warnings.warn(msg)\n"
     ]
    },
    {
     "name": "stdout",
     "output_type": "stream",
     "text": [
      "d_loss: 0.6935090124607086\n",
      "g_loss: [array(0.5943071, dtype=float32), array(0.5929968, dtype=float32), array(0.00065519, dtype=float32)]\n",
      "Batch: 50\n"
     ]
    },
    {
     "name": "stderr",
     "output_type": "stream",
     "text": [
      "c:\\Users\\Windows\\.conda\\envs\\generalEnv\\Lib\\site-packages\\keras\\src\\models\\functional.py:237: UserWarning: The structure of `inputs` doesn't match the expected structure.\n",
      "Expected: ['keras_tensor_343']\n",
      "Received: inputs=Tensor(shape=(4, 1024))\n",
      "  warnings.warn(msg)\n"
     ]
    },
    {
     "name": "stdout",
     "output_type": "stream",
     "text": [
      "d_loss: 0.6935099363327026\n",
      "g_loss: [array(0.5927498, dtype=float32), array(0.59145343, dtype=float32), array(0.0006482, dtype=float32)]\n",
      "Batch: 51\n"
     ]
    },
    {
     "name": "stderr",
     "output_type": "stream",
     "text": [
      "c:\\Users\\Windows\\.conda\\envs\\generalEnv\\Lib\\site-packages\\keras\\src\\models\\functional.py:237: UserWarning: The structure of `inputs` doesn't match the expected structure.\n",
      "Expected: ['keras_tensor_347']\n",
      "Received: inputs=Tensor(shape=(4, 1024))\n",
      "  warnings.warn(msg)\n"
     ]
    },
    {
     "name": "stdout",
     "output_type": "stream",
     "text": [
      "d_loss: 0.6934881508350372\n",
      "g_loss: [array(0.5912332, dtype=float32), array(0.5899537, dtype=float32), array(0.00063977, dtype=float32)]\n",
      "Batch: 52\n"
     ]
    },
    {
     "name": "stderr",
     "output_type": "stream",
     "text": [
      "c:\\Users\\Windows\\.conda\\envs\\generalEnv\\Lib\\site-packages\\keras\\src\\models\\functional.py:237: UserWarning: The structure of `inputs` doesn't match the expected structure.\n",
      "Expected: ['keras_tensor_351']\n",
      "Received: inputs=Tensor(shape=(4, 1024))\n",
      "  warnings.warn(msg)\n"
     ]
    },
    {
     "name": "stdout",
     "output_type": "stream",
     "text": [
      "d_loss: 0.6934764385223389\n",
      "g_loss: [array(0.58968216, dtype=float32), array(0.58841133, dtype=float32), array(0.00063543, dtype=float32)]\n",
      "Batch: 53\n"
     ]
    },
    {
     "name": "stderr",
     "output_type": "stream",
     "text": [
      "c:\\Users\\Windows\\.conda\\envs\\generalEnv\\Lib\\site-packages\\keras\\src\\models\\functional.py:237: UserWarning: The structure of `inputs` doesn't match the expected structure.\n",
      "Expected: ['keras_tensor_355']\n",
      "Received: inputs=Tensor(shape=(4, 1024))\n",
      "  warnings.warn(msg)\n"
     ]
    },
    {
     "name": "stdout",
     "output_type": "stream",
     "text": [
      "d_loss: 0.6934902966022491\n",
      "g_loss: [array(0.58817744, dtype=float32), array(0.5869187, dtype=float32), array(0.0006294, dtype=float32)]\n",
      "Batch: 54\n"
     ]
    },
    {
     "name": "stderr",
     "output_type": "stream",
     "text": [
      "c:\\Users\\Windows\\.conda\\envs\\generalEnv\\Lib\\site-packages\\keras\\src\\models\\functional.py:237: UserWarning: The structure of `inputs` doesn't match the expected structure.\n",
      "Expected: ['keras_tensor_359']\n",
      "Received: inputs=Tensor(shape=(4, 1024))\n",
      "  warnings.warn(msg)\n"
     ]
    },
    {
     "name": "stdout",
     "output_type": "stream",
     "text": [
      "d_loss: 0.6934802234172821\n",
      "g_loss: [array(0.58673203, dtype=float32), array(0.5854873, dtype=float32), array(0.00062238, dtype=float32)]\n",
      "Batch: 55\n"
     ]
    },
    {
     "name": "stderr",
     "output_type": "stream",
     "text": [
      "c:\\Users\\Windows\\.conda\\envs\\generalEnv\\Lib\\site-packages\\keras\\src\\models\\functional.py:237: UserWarning: The structure of `inputs` doesn't match the expected structure.\n",
      "Expected: ['keras_tensor_363']\n",
      "Received: inputs=Tensor(shape=(4, 1024))\n",
      "  warnings.warn(msg)\n"
     ]
    },
    {
     "name": "stdout",
     "output_type": "stream",
     "text": [
      "d_loss: 0.6934821307659149\n",
      "g_loss: [array(0.58522165, dtype=float32), array(0.5839872, dtype=float32), array(0.00061729, dtype=float32)]\n",
      "Batch: 56\n"
     ]
    },
    {
     "name": "stderr",
     "output_type": "stream",
     "text": [
      "c:\\Users\\Windows\\.conda\\envs\\generalEnv\\Lib\\site-packages\\keras\\src\\models\\functional.py:237: UserWarning: The structure of `inputs` doesn't match the expected structure.\n",
      "Expected: ['keras_tensor_367']\n",
      "Received: inputs=Tensor(shape=(4, 1024))\n",
      "  warnings.warn(msg)\n"
     ]
    },
    {
     "name": "stdout",
     "output_type": "stream",
     "text": [
      "d_loss: 0.693503737449646\n",
      "g_loss: [array(0.5837458, dtype=float32), array(0.58252096, dtype=float32), array(0.00061246, dtype=float32)]\n",
      "Batch: 57\n"
     ]
    },
    {
     "name": "stderr",
     "output_type": "stream",
     "text": [
      "c:\\Users\\Windows\\.conda\\envs\\generalEnv\\Lib\\site-packages\\keras\\src\\models\\functional.py:237: UserWarning: The structure of `inputs` doesn't match the expected structure.\n",
      "Expected: ['keras_tensor_371']\n",
      "Received: inputs=Tensor(shape=(4, 1024))\n",
      "  warnings.warn(msg)\n"
     ]
    },
    {
     "name": "stdout",
     "output_type": "stream",
     "text": [
      "d_loss: 0.6934889853000641\n",
      "g_loss: [array(0.5822346, dtype=float32), array(0.5810175, dtype=float32), array(0.00060866, dtype=float32)]\n",
      "Batch: 58\n"
     ]
    },
    {
     "name": "stderr",
     "output_type": "stream",
     "text": [
      "c:\\Users\\Windows\\.conda\\envs\\generalEnv\\Lib\\site-packages\\keras\\src\\models\\functional.py:237: UserWarning: The structure of `inputs` doesn't match the expected structure.\n",
      "Expected: ['keras_tensor_375']\n",
      "Received: inputs=Tensor(shape=(4, 1024))\n",
      "  warnings.warn(msg)\n"
     ]
    },
    {
     "name": "stdout",
     "output_type": "stream",
     "text": [
      "d_loss: 0.6934825778007507\n",
      "g_loss: [array(0.58071667, dtype=float32), array(0.5795101, dtype=float32), array(0.0006034, dtype=float32)]\n",
      "Batch: 59\n"
     ]
    },
    {
     "name": "stderr",
     "output_type": "stream",
     "text": [
      "c:\\Users\\Windows\\.conda\\envs\\generalEnv\\Lib\\site-packages\\keras\\src\\models\\functional.py:237: UserWarning: The structure of `inputs` doesn't match the expected structure.\n",
      "Expected: ['keras_tensor_379']\n",
      "Received: inputs=Tensor(shape=(4, 1024))\n",
      "  warnings.warn(msg)\n"
     ]
    },
    {
     "name": "stdout",
     "output_type": "stream",
     "text": [
      "d_loss: 0.6935007572174072\n",
      "g_loss: [array(0.5792314, dtype=float32), array(0.5780355, dtype=float32), array(0.00059805, dtype=float32)]\n",
      "Batch: 60\n"
     ]
    },
    {
     "name": "stderr",
     "output_type": "stream",
     "text": [
      "c:\\Users\\Windows\\.conda\\envs\\generalEnv\\Lib\\site-packages\\keras\\src\\models\\functional.py:237: UserWarning: The structure of `inputs` doesn't match the expected structure.\n",
      "Expected: ['keras_tensor_383']\n",
      "Received: inputs=Tensor(shape=(4, 1024))\n",
      "  warnings.warn(msg)\n"
     ]
    },
    {
     "name": "stdout",
     "output_type": "stream",
     "text": [
      "d_loss: 0.6935057640075684\n",
      "g_loss: [array(0.5777683, dtype=float32), array(0.57658195, dtype=float32), array(0.00059325, dtype=float32)]\n",
      "Batch: 61\n"
     ]
    },
    {
     "name": "stderr",
     "output_type": "stream",
     "text": [
      "c:\\Users\\Windows\\.conda\\envs\\generalEnv\\Lib\\site-packages\\keras\\src\\models\\functional.py:237: UserWarning: The structure of `inputs` doesn't match the expected structure.\n",
      "Expected: ['keras_tensor_387']\n",
      "Received: inputs=Tensor(shape=(4, 1024))\n",
      "  warnings.warn(msg)\n"
     ]
    },
    {
     "name": "stdout",
     "output_type": "stream",
     "text": [
      "d_loss: 0.6935089230537415\n",
      "g_loss: [array(0.5763413, dtype=float32), array(0.57516336, dtype=float32), array(0.00058903, dtype=float32)]\n",
      "Batch: 62\n"
     ]
    },
    {
     "name": "stderr",
     "output_type": "stream",
     "text": [
      "c:\\Users\\Windows\\.conda\\envs\\generalEnv\\Lib\\site-packages\\keras\\src\\models\\functional.py:237: UserWarning: The structure of `inputs` doesn't match the expected structure.\n",
      "Expected: ['keras_tensor_391']\n",
      "Received: inputs=Tensor(shape=(4, 1024))\n",
      "  warnings.warn(msg)\n"
     ]
    },
    {
     "name": "stdout",
     "output_type": "stream",
     "text": [
      "d_loss: 0.6935038864612579\n",
      "g_loss: [array(0.57489145, dtype=float32), array(0.5737228, dtype=float32), array(0.00058438, dtype=float32)]\n",
      "Batch: 63\n"
     ]
    },
    {
     "name": "stderr",
     "output_type": "stream",
     "text": [
      "c:\\Users\\Windows\\.conda\\envs\\generalEnv\\Lib\\site-packages\\keras\\src\\models\\functional.py:237: UserWarning: The structure of `inputs` doesn't match the expected structure.\n",
      "Expected: ['keras_tensor_395']\n",
      "Received: inputs=Tensor(shape=(4, 1024))\n",
      "  warnings.warn(msg)\n"
     ]
    },
    {
     "name": "stdout",
     "output_type": "stream",
     "text": [
      "d_loss: 0.6935301423072815\n"
     ]
    },
    {
     "ename": "KeyboardInterrupt",
     "evalue": "",
     "output_type": "error",
     "traceback": [
      "\u001b[1;31m---------------------------------------------------------------------------\u001b[0m",
      "\u001b[1;31mKeyboardInterrupt\u001b[0m                         Traceback (most recent call last)",
      "Cell \u001b[1;32mIn[1], line 473\u001b[0m\n\u001b[0;32m    470\u001b[0m d_loss \u001b[38;5;241m=\u001b[39m \u001b[38;5;241m0.5\u001b[39m \u001b[38;5;241m*\u001b[39m np\u001b[38;5;241m.\u001b[39madd(dis_loss_real, \u001b[38;5;241m0.5\u001b[39m \u001b[38;5;241m*\u001b[39m np\u001b[38;5;241m.\u001b[39madd(dis_loss_wrong, dis_loss_fake))\n\u001b[0;32m    471\u001b[0m \u001b[38;5;28mprint\u001b[39m(\u001b[38;5;124mf\u001b[39m\u001b[38;5;124m\"\u001b[39m\u001b[38;5;124md_loss: \u001b[39m\u001b[38;5;132;01m{\u001b[39;00md_loss\u001b[38;5;132;01m}\u001b[39;00m\u001b[38;5;124m\"\u001b[39m)\n\u001b[1;32m--> 473\u001b[0m g_loss \u001b[38;5;241m=\u001b[39m \u001b[43madversarial_model\u001b[49m\u001b[38;5;241;43m.\u001b[39;49m\u001b[43mtrain_on_batch\u001b[49m\u001b[43m(\u001b[49m\n\u001b[0;32m    474\u001b[0m \u001b[43m    \u001b[49m\u001b[43m[\u001b[49m\u001b[43membedding_batch\u001b[49m\u001b[43m,\u001b[49m\u001b[43m \u001b[49m\u001b[43mz_noise\u001b[49m\u001b[43m,\u001b[49m\u001b[43m \u001b[49m\u001b[43mcompressed_embedding\u001b[49m\u001b[43m]\u001b[49m\u001b[43m,\u001b[49m\n\u001b[0;32m    475\u001b[0m \u001b[43m    \u001b[49m\u001b[43m[\u001b[49m\u001b[43mK\u001b[49m\u001b[38;5;241;43m.\u001b[39;49m\u001b[43mones\u001b[49m\u001b[43m(\u001b[49m\u001b[43m(\u001b[49m\u001b[43mbatch_size\u001b[49m\u001b[43m,\u001b[49m\u001b[43m \u001b[49m\u001b[38;5;241;43m1\u001b[39;49m\u001b[43m)\u001b[49m\u001b[43m)\u001b[49m\u001b[43m \u001b[49m\u001b[38;5;241;43m*\u001b[39;49m\u001b[43m \u001b[49m\u001b[38;5;241;43m0.9\u001b[39;49m\u001b[43m,\u001b[49m\u001b[43m \u001b[49m\u001b[43mK\u001b[49m\u001b[38;5;241;43m.\u001b[39;49m\u001b[43mones\u001b[49m\u001b[43m(\u001b[49m\u001b[43m(\u001b[49m\u001b[43mbatch_size\u001b[49m\u001b[43m,\u001b[49m\u001b[43m \u001b[49m\u001b[38;5;241;43m256\u001b[39;49m\u001b[43m)\u001b[49m\u001b[43m)\u001b[49m\u001b[43m \u001b[49m\u001b[38;5;241;43m*\u001b[39;49m\u001b[43m \u001b[49m\u001b[38;5;241;43m0.9\u001b[39;49m\u001b[43m]\u001b[49m\n\u001b[0;32m    476\u001b[0m \u001b[43m\u001b[49m\u001b[43m)\u001b[49m\n\u001b[0;32m    477\u001b[0m \u001b[38;5;28mprint\u001b[39m(\u001b[38;5;124mf\u001b[39m\u001b[38;5;124m\"\u001b[39m\u001b[38;5;124mg_loss: \u001b[39m\u001b[38;5;132;01m{\u001b[39;00mg_loss\u001b[38;5;132;01m}\u001b[39;00m\u001b[38;5;124m\"\u001b[39m)\n\u001b[0;32m    479\u001b[0m dis_losses\u001b[38;5;241m.\u001b[39mappend(d_loss)\n",
      "File \u001b[1;32mc:\\Users\\Windows\\.conda\\envs\\generalEnv\\Lib\\site-packages\\keras\\src\\backend\\tensorflow\\trainer.py:601\u001b[0m, in \u001b[0;36mTensorFlowTrainer.train_on_batch\u001b[1;34m(self, x, y, sample_weight, class_weight, return_dict)\u001b[0m\n\u001b[0;32m    598\u001b[0m \u001b[38;5;28;01mdef\u001b[39;00m \u001b[38;5;21mdata\u001b[39m():\n\u001b[0;32m    599\u001b[0m     \u001b[38;5;28;01myield\u001b[39;00m (x, y, sample_weight)\n\u001b[1;32m--> 601\u001b[0m logs \u001b[38;5;241m=\u001b[39m \u001b[38;5;28;43mself\u001b[39;49m\u001b[38;5;241;43m.\u001b[39;49m\u001b[43mtrain_function\u001b[49m\u001b[43m(\u001b[49m\u001b[43mdata\u001b[49m\u001b[43m(\u001b[49m\u001b[43m)\u001b[49m\u001b[43m)\u001b[49m\n\u001b[0;32m    602\u001b[0m logs \u001b[38;5;241m=\u001b[39m tree\u001b[38;5;241m.\u001b[39mmap_structure(\u001b[38;5;28;01mlambda\u001b[39;00m x: np\u001b[38;5;241m.\u001b[39marray(x), logs)\n\u001b[0;32m    603\u001b[0m \u001b[38;5;28;01mif\u001b[39;00m return_dict:\n",
      "File \u001b[1;32mc:\\Users\\Windows\\.conda\\envs\\generalEnv\\Lib\\site-packages\\keras\\src\\backend\\tensorflow\\trainer.py:227\u001b[0m, in \u001b[0;36mTensorFlowTrainer._make_function.<locals>.function\u001b[1;34m(iterator)\u001b[0m\n\u001b[0;32m    223\u001b[0m \u001b[38;5;28;01melse\u001b[39;00m:\n\u001b[0;32m    224\u001b[0m     \u001b[38;5;28;01mfor\u001b[39;00m step, data \u001b[38;5;129;01min\u001b[39;00m \u001b[38;5;28mzip\u001b[39m(\n\u001b[0;32m    225\u001b[0m         \u001b[38;5;28mrange\u001b[39m(\u001b[38;5;28mself\u001b[39m\u001b[38;5;241m.\u001b[39msteps_per_execution), iterator\n\u001b[0;32m    226\u001b[0m     ):\n\u001b[1;32m--> 227\u001b[0m         outputs \u001b[38;5;241m=\u001b[39m \u001b[43mone_step_on_data\u001b[49m\u001b[43m(\u001b[49m\u001b[43mdata\u001b[49m\u001b[43m)\u001b[49m\n\u001b[0;32m    228\u001b[0m     \u001b[38;5;28;01mreturn\u001b[39;00m outputs\n",
      "File \u001b[1;32mc:\\Users\\Windows\\.conda\\envs\\generalEnv\\Lib\\site-packages\\tensorflow\\python\\util\\traceback_utils.py:150\u001b[0m, in \u001b[0;36mfilter_traceback.<locals>.error_handler\u001b[1;34m(*args, **kwargs)\u001b[0m\n\u001b[0;32m    148\u001b[0m filtered_tb \u001b[38;5;241m=\u001b[39m \u001b[38;5;28;01mNone\u001b[39;00m\n\u001b[0;32m    149\u001b[0m \u001b[38;5;28;01mtry\u001b[39;00m:\n\u001b[1;32m--> 150\u001b[0m   \u001b[38;5;28;01mreturn\u001b[39;00m \u001b[43mfn\u001b[49m\u001b[43m(\u001b[49m\u001b[38;5;241;43m*\u001b[39;49m\u001b[43margs\u001b[49m\u001b[43m,\u001b[49m\u001b[43m \u001b[49m\u001b[38;5;241;43m*\u001b[39;49m\u001b[38;5;241;43m*\u001b[39;49m\u001b[43mkwargs\u001b[49m\u001b[43m)\u001b[49m\n\u001b[0;32m    151\u001b[0m \u001b[38;5;28;01mexcept\u001b[39;00m \u001b[38;5;167;01mException\u001b[39;00m \u001b[38;5;28;01mas\u001b[39;00m e:\n\u001b[0;32m    152\u001b[0m   filtered_tb \u001b[38;5;241m=\u001b[39m _process_traceback_frames(e\u001b[38;5;241m.\u001b[39m__traceback__)\n",
      "File \u001b[1;32mc:\\Users\\Windows\\.conda\\envs\\generalEnv\\Lib\\site-packages\\tensorflow\\python\\eager\\polymorphic_function\\polymorphic_function.py:833\u001b[0m, in \u001b[0;36mFunction.__call__\u001b[1;34m(self, *args, **kwds)\u001b[0m\n\u001b[0;32m    830\u001b[0m compiler \u001b[38;5;241m=\u001b[39m \u001b[38;5;124m\"\u001b[39m\u001b[38;5;124mxla\u001b[39m\u001b[38;5;124m\"\u001b[39m \u001b[38;5;28;01mif\u001b[39;00m \u001b[38;5;28mself\u001b[39m\u001b[38;5;241m.\u001b[39m_jit_compile \u001b[38;5;28;01melse\u001b[39;00m \u001b[38;5;124m\"\u001b[39m\u001b[38;5;124mnonXla\u001b[39m\u001b[38;5;124m\"\u001b[39m\n\u001b[0;32m    832\u001b[0m \u001b[38;5;28;01mwith\u001b[39;00m OptionalXlaContext(\u001b[38;5;28mself\u001b[39m\u001b[38;5;241m.\u001b[39m_jit_compile):\n\u001b[1;32m--> 833\u001b[0m   result \u001b[38;5;241m=\u001b[39m \u001b[38;5;28;43mself\u001b[39;49m\u001b[38;5;241;43m.\u001b[39;49m\u001b[43m_call\u001b[49m\u001b[43m(\u001b[49m\u001b[38;5;241;43m*\u001b[39;49m\u001b[43margs\u001b[49m\u001b[43m,\u001b[49m\u001b[43m \u001b[49m\u001b[38;5;241;43m*\u001b[39;49m\u001b[38;5;241;43m*\u001b[39;49m\u001b[43mkwds\u001b[49m\u001b[43m)\u001b[49m\n\u001b[0;32m    835\u001b[0m new_tracing_count \u001b[38;5;241m=\u001b[39m \u001b[38;5;28mself\u001b[39m\u001b[38;5;241m.\u001b[39mexperimental_get_tracing_count()\n\u001b[0;32m    836\u001b[0m without_tracing \u001b[38;5;241m=\u001b[39m (tracing_count \u001b[38;5;241m==\u001b[39m new_tracing_count)\n",
      "File \u001b[1;32mc:\\Users\\Windows\\.conda\\envs\\generalEnv\\Lib\\site-packages\\tensorflow\\python\\eager\\polymorphic_function\\polymorphic_function.py:869\u001b[0m, in \u001b[0;36mFunction._call\u001b[1;34m(self, *args, **kwds)\u001b[0m\n\u001b[0;32m    866\u001b[0m   \u001b[38;5;28mself\u001b[39m\u001b[38;5;241m.\u001b[39m_lock\u001b[38;5;241m.\u001b[39mrelease()\n\u001b[0;32m    867\u001b[0m   \u001b[38;5;66;03m# In this case we have created variables on the first call, so we run the\u001b[39;00m\n\u001b[0;32m    868\u001b[0m   \u001b[38;5;66;03m# defunned version which is guaranteed to never create variables.\u001b[39;00m\n\u001b[1;32m--> 869\u001b[0m   \u001b[38;5;28;01mreturn\u001b[39;00m \u001b[43mtracing_compilation\u001b[49m\u001b[38;5;241;43m.\u001b[39;49m\u001b[43mcall_function\u001b[49m\u001b[43m(\u001b[49m\n\u001b[0;32m    870\u001b[0m \u001b[43m      \u001b[49m\u001b[43margs\u001b[49m\u001b[43m,\u001b[49m\u001b[43m \u001b[49m\u001b[43mkwds\u001b[49m\u001b[43m,\u001b[49m\u001b[43m \u001b[49m\u001b[38;5;28;43mself\u001b[39;49m\u001b[38;5;241;43m.\u001b[39;49m\u001b[43m_no_variable_creation_config\u001b[49m\n\u001b[0;32m    871\u001b[0m \u001b[43m  \u001b[49m\u001b[43m)\u001b[49m\n\u001b[0;32m    872\u001b[0m \u001b[38;5;28;01melif\u001b[39;00m \u001b[38;5;28mself\u001b[39m\u001b[38;5;241m.\u001b[39m_variable_creation_config \u001b[38;5;129;01mis\u001b[39;00m \u001b[38;5;129;01mnot\u001b[39;00m \u001b[38;5;28;01mNone\u001b[39;00m:\n\u001b[0;32m    873\u001b[0m   \u001b[38;5;66;03m# Release the lock early so that multiple threads can perform the call\u001b[39;00m\n\u001b[0;32m    874\u001b[0m   \u001b[38;5;66;03m# in parallel.\u001b[39;00m\n\u001b[0;32m    875\u001b[0m   \u001b[38;5;28mself\u001b[39m\u001b[38;5;241m.\u001b[39m_lock\u001b[38;5;241m.\u001b[39mrelease()\n",
      "File \u001b[1;32mc:\\Users\\Windows\\.conda\\envs\\generalEnv\\Lib\\site-packages\\tensorflow\\python\\eager\\polymorphic_function\\tracing_compilation.py:139\u001b[0m, in \u001b[0;36mcall_function\u001b[1;34m(args, kwargs, tracing_options)\u001b[0m\n\u001b[0;32m    137\u001b[0m bound_args \u001b[38;5;241m=\u001b[39m function\u001b[38;5;241m.\u001b[39mfunction_type\u001b[38;5;241m.\u001b[39mbind(\u001b[38;5;241m*\u001b[39margs, \u001b[38;5;241m*\u001b[39m\u001b[38;5;241m*\u001b[39mkwargs)\n\u001b[0;32m    138\u001b[0m flat_inputs \u001b[38;5;241m=\u001b[39m function\u001b[38;5;241m.\u001b[39mfunction_type\u001b[38;5;241m.\u001b[39munpack_inputs(bound_args)\n\u001b[1;32m--> 139\u001b[0m \u001b[38;5;28;01mreturn\u001b[39;00m \u001b[43mfunction\u001b[49m\u001b[38;5;241;43m.\u001b[39;49m\u001b[43m_call_flat\u001b[49m\u001b[43m(\u001b[49m\u001b[43m  \u001b[49m\u001b[38;5;66;43;03m# pylint: disable=protected-access\u001b[39;49;00m\n\u001b[0;32m    140\u001b[0m \u001b[43m    \u001b[49m\u001b[43mflat_inputs\u001b[49m\u001b[43m,\u001b[49m\u001b[43m \u001b[49m\u001b[43mcaptured_inputs\u001b[49m\u001b[38;5;241;43m=\u001b[39;49m\u001b[43mfunction\u001b[49m\u001b[38;5;241;43m.\u001b[39;49m\u001b[43mcaptured_inputs\u001b[49m\n\u001b[0;32m    141\u001b[0m \u001b[43m\u001b[49m\u001b[43m)\u001b[49m\n",
      "File \u001b[1;32mc:\\Users\\Windows\\.conda\\envs\\generalEnv\\Lib\\site-packages\\tensorflow\\python\\eager\\polymorphic_function\\concrete_function.py:1322\u001b[0m, in \u001b[0;36mConcreteFunction._call_flat\u001b[1;34m(self, tensor_inputs, captured_inputs)\u001b[0m\n\u001b[0;32m   1318\u001b[0m possible_gradient_type \u001b[38;5;241m=\u001b[39m gradients_util\u001b[38;5;241m.\u001b[39mPossibleTapeGradientTypes(args)\n\u001b[0;32m   1319\u001b[0m \u001b[38;5;28;01mif\u001b[39;00m (possible_gradient_type \u001b[38;5;241m==\u001b[39m gradients_util\u001b[38;5;241m.\u001b[39mPOSSIBLE_GRADIENT_TYPES_NONE\n\u001b[0;32m   1320\u001b[0m     \u001b[38;5;129;01mand\u001b[39;00m executing_eagerly):\n\u001b[0;32m   1321\u001b[0m   \u001b[38;5;66;03m# No tape is watching; skip to running the function.\u001b[39;00m\n\u001b[1;32m-> 1322\u001b[0m   \u001b[38;5;28;01mreturn\u001b[39;00m \u001b[38;5;28;43mself\u001b[39;49m\u001b[38;5;241;43m.\u001b[39;49m\u001b[43m_inference_function\u001b[49m\u001b[38;5;241;43m.\u001b[39;49m\u001b[43mcall_preflattened\u001b[49m\u001b[43m(\u001b[49m\u001b[43margs\u001b[49m\u001b[43m)\u001b[49m\n\u001b[0;32m   1323\u001b[0m forward_backward \u001b[38;5;241m=\u001b[39m \u001b[38;5;28mself\u001b[39m\u001b[38;5;241m.\u001b[39m_select_forward_and_backward_functions(\n\u001b[0;32m   1324\u001b[0m     args,\n\u001b[0;32m   1325\u001b[0m     possible_gradient_type,\n\u001b[0;32m   1326\u001b[0m     executing_eagerly)\n\u001b[0;32m   1327\u001b[0m forward_function, args_with_tangents \u001b[38;5;241m=\u001b[39m forward_backward\u001b[38;5;241m.\u001b[39mforward()\n",
      "File \u001b[1;32mc:\\Users\\Windows\\.conda\\envs\\generalEnv\\Lib\\site-packages\\tensorflow\\python\\eager\\polymorphic_function\\atomic_function.py:216\u001b[0m, in \u001b[0;36mAtomicFunction.call_preflattened\u001b[1;34m(self, args)\u001b[0m\n\u001b[0;32m    214\u001b[0m \u001b[38;5;28;01mdef\u001b[39;00m \u001b[38;5;21mcall_preflattened\u001b[39m(\u001b[38;5;28mself\u001b[39m, args: Sequence[core\u001b[38;5;241m.\u001b[39mTensor]) \u001b[38;5;241m-\u001b[39m\u001b[38;5;241m>\u001b[39m Any:\n\u001b[0;32m    215\u001b[0m \u001b[38;5;250m  \u001b[39m\u001b[38;5;124;03m\"\"\"Calls with flattened tensor inputs and returns the structured output.\"\"\"\u001b[39;00m\n\u001b[1;32m--> 216\u001b[0m   flat_outputs \u001b[38;5;241m=\u001b[39m \u001b[38;5;28;43mself\u001b[39;49m\u001b[38;5;241;43m.\u001b[39;49m\u001b[43mcall_flat\u001b[49m\u001b[43m(\u001b[49m\u001b[38;5;241;43m*\u001b[39;49m\u001b[43margs\u001b[49m\u001b[43m)\u001b[49m\n\u001b[0;32m    217\u001b[0m   \u001b[38;5;28;01mreturn\u001b[39;00m \u001b[38;5;28mself\u001b[39m\u001b[38;5;241m.\u001b[39mfunction_type\u001b[38;5;241m.\u001b[39mpack_output(flat_outputs)\n",
      "File \u001b[1;32mc:\\Users\\Windows\\.conda\\envs\\generalEnv\\Lib\\site-packages\\tensorflow\\python\\eager\\polymorphic_function\\atomic_function.py:251\u001b[0m, in \u001b[0;36mAtomicFunction.call_flat\u001b[1;34m(self, *args)\u001b[0m\n\u001b[0;32m    249\u001b[0m \u001b[38;5;28;01mwith\u001b[39;00m record\u001b[38;5;241m.\u001b[39mstop_recording():\n\u001b[0;32m    250\u001b[0m   \u001b[38;5;28;01mif\u001b[39;00m \u001b[38;5;28mself\u001b[39m\u001b[38;5;241m.\u001b[39m_bound_context\u001b[38;5;241m.\u001b[39mexecuting_eagerly():\n\u001b[1;32m--> 251\u001b[0m     outputs \u001b[38;5;241m=\u001b[39m \u001b[38;5;28;43mself\u001b[39;49m\u001b[38;5;241;43m.\u001b[39;49m\u001b[43m_bound_context\u001b[49m\u001b[38;5;241;43m.\u001b[39;49m\u001b[43mcall_function\u001b[49m\u001b[43m(\u001b[49m\n\u001b[0;32m    252\u001b[0m \u001b[43m        \u001b[49m\u001b[38;5;28;43mself\u001b[39;49m\u001b[38;5;241;43m.\u001b[39;49m\u001b[43mname\u001b[49m\u001b[43m,\u001b[49m\n\u001b[0;32m    253\u001b[0m \u001b[43m        \u001b[49m\u001b[38;5;28;43mlist\u001b[39;49m\u001b[43m(\u001b[49m\u001b[43margs\u001b[49m\u001b[43m)\u001b[49m\u001b[43m,\u001b[49m\n\u001b[0;32m    254\u001b[0m \u001b[43m        \u001b[49m\u001b[38;5;28;43mlen\u001b[39;49m\u001b[43m(\u001b[49m\u001b[38;5;28;43mself\u001b[39;49m\u001b[38;5;241;43m.\u001b[39;49m\u001b[43mfunction_type\u001b[49m\u001b[38;5;241;43m.\u001b[39;49m\u001b[43mflat_outputs\u001b[49m\u001b[43m)\u001b[49m\u001b[43m,\u001b[49m\n\u001b[0;32m    255\u001b[0m \u001b[43m    \u001b[49m\u001b[43m)\u001b[49m\n\u001b[0;32m    256\u001b[0m   \u001b[38;5;28;01melse\u001b[39;00m:\n\u001b[0;32m    257\u001b[0m     outputs \u001b[38;5;241m=\u001b[39m make_call_op_in_graph(\n\u001b[0;32m    258\u001b[0m         \u001b[38;5;28mself\u001b[39m,\n\u001b[0;32m    259\u001b[0m         \u001b[38;5;28mlist\u001b[39m(args),\n\u001b[0;32m    260\u001b[0m         \u001b[38;5;28mself\u001b[39m\u001b[38;5;241m.\u001b[39m_bound_context\u001b[38;5;241m.\u001b[39mfunction_call_options\u001b[38;5;241m.\u001b[39mas_attrs(),\n\u001b[0;32m    261\u001b[0m     )\n",
      "File \u001b[1;32mc:\\Users\\Windows\\.conda\\envs\\generalEnv\\Lib\\site-packages\\tensorflow\\python\\eager\\context.py:1683\u001b[0m, in \u001b[0;36mContext.call_function\u001b[1;34m(self, name, tensor_inputs, num_outputs)\u001b[0m\n\u001b[0;32m   1681\u001b[0m cancellation_context \u001b[38;5;241m=\u001b[39m cancellation\u001b[38;5;241m.\u001b[39mcontext()\n\u001b[0;32m   1682\u001b[0m \u001b[38;5;28;01mif\u001b[39;00m cancellation_context \u001b[38;5;129;01mis\u001b[39;00m \u001b[38;5;28;01mNone\u001b[39;00m:\n\u001b[1;32m-> 1683\u001b[0m   outputs \u001b[38;5;241m=\u001b[39m \u001b[43mexecute\u001b[49m\u001b[38;5;241;43m.\u001b[39;49m\u001b[43mexecute\u001b[49m\u001b[43m(\u001b[49m\n\u001b[0;32m   1684\u001b[0m \u001b[43m      \u001b[49m\u001b[43mname\u001b[49m\u001b[38;5;241;43m.\u001b[39;49m\u001b[43mdecode\u001b[49m\u001b[43m(\u001b[49m\u001b[38;5;124;43m\"\u001b[39;49m\u001b[38;5;124;43mutf-8\u001b[39;49m\u001b[38;5;124;43m\"\u001b[39;49m\u001b[43m)\u001b[49m\u001b[43m,\u001b[49m\n\u001b[0;32m   1685\u001b[0m \u001b[43m      \u001b[49m\u001b[43mnum_outputs\u001b[49m\u001b[38;5;241;43m=\u001b[39;49m\u001b[43mnum_outputs\u001b[49m\u001b[43m,\u001b[49m\n\u001b[0;32m   1686\u001b[0m \u001b[43m      \u001b[49m\u001b[43minputs\u001b[49m\u001b[38;5;241;43m=\u001b[39;49m\u001b[43mtensor_inputs\u001b[49m\u001b[43m,\u001b[49m\n\u001b[0;32m   1687\u001b[0m \u001b[43m      \u001b[49m\u001b[43mattrs\u001b[49m\u001b[38;5;241;43m=\u001b[39;49m\u001b[43mattrs\u001b[49m\u001b[43m,\u001b[49m\n\u001b[0;32m   1688\u001b[0m \u001b[43m      \u001b[49m\u001b[43mctx\u001b[49m\u001b[38;5;241;43m=\u001b[39;49m\u001b[38;5;28;43mself\u001b[39;49m\u001b[43m,\u001b[49m\n\u001b[0;32m   1689\u001b[0m \u001b[43m  \u001b[49m\u001b[43m)\u001b[49m\n\u001b[0;32m   1690\u001b[0m \u001b[38;5;28;01melse\u001b[39;00m:\n\u001b[0;32m   1691\u001b[0m   outputs \u001b[38;5;241m=\u001b[39m execute\u001b[38;5;241m.\u001b[39mexecute_with_cancellation(\n\u001b[0;32m   1692\u001b[0m       name\u001b[38;5;241m.\u001b[39mdecode(\u001b[38;5;124m\"\u001b[39m\u001b[38;5;124mutf-8\u001b[39m\u001b[38;5;124m\"\u001b[39m),\n\u001b[0;32m   1693\u001b[0m       num_outputs\u001b[38;5;241m=\u001b[39mnum_outputs,\n\u001b[1;32m   (...)\u001b[0m\n\u001b[0;32m   1697\u001b[0m       cancellation_manager\u001b[38;5;241m=\u001b[39mcancellation_context,\n\u001b[0;32m   1698\u001b[0m   )\n",
      "File \u001b[1;32mc:\\Users\\Windows\\.conda\\envs\\generalEnv\\Lib\\site-packages\\tensorflow\\python\\eager\\execute.py:53\u001b[0m, in \u001b[0;36mquick_execute\u001b[1;34m(op_name, num_outputs, inputs, attrs, ctx, name)\u001b[0m\n\u001b[0;32m     51\u001b[0m \u001b[38;5;28;01mtry\u001b[39;00m:\n\u001b[0;32m     52\u001b[0m   ctx\u001b[38;5;241m.\u001b[39mensure_initialized()\n\u001b[1;32m---> 53\u001b[0m   tensors \u001b[38;5;241m=\u001b[39m \u001b[43mpywrap_tfe\u001b[49m\u001b[38;5;241;43m.\u001b[39;49m\u001b[43mTFE_Py_Execute\u001b[49m\u001b[43m(\u001b[49m\u001b[43mctx\u001b[49m\u001b[38;5;241;43m.\u001b[39;49m\u001b[43m_handle\u001b[49m\u001b[43m,\u001b[49m\u001b[43m \u001b[49m\u001b[43mdevice_name\u001b[49m\u001b[43m,\u001b[49m\u001b[43m \u001b[49m\u001b[43mop_name\u001b[49m\u001b[43m,\u001b[49m\n\u001b[0;32m     54\u001b[0m \u001b[43m                                      \u001b[49m\u001b[43minputs\u001b[49m\u001b[43m,\u001b[49m\u001b[43m \u001b[49m\u001b[43mattrs\u001b[49m\u001b[43m,\u001b[49m\u001b[43m \u001b[49m\u001b[43mnum_outputs\u001b[49m\u001b[43m)\u001b[49m\n\u001b[0;32m     55\u001b[0m \u001b[38;5;28;01mexcept\u001b[39;00m core\u001b[38;5;241m.\u001b[39m_NotOkStatusException \u001b[38;5;28;01mas\u001b[39;00m e:\n\u001b[0;32m     56\u001b[0m   \u001b[38;5;28;01mif\u001b[39;00m name \u001b[38;5;129;01mis\u001b[39;00m \u001b[38;5;129;01mnot\u001b[39;00m \u001b[38;5;28;01mNone\u001b[39;00m:\n",
      "\u001b[1;31mKeyboardInterrupt\u001b[0m: "
     ]
    }
   ],
   "source": [
    "import os\n",
    "import pickle\n",
    "import random\n",
    "import time\n",
    "import PIL\n",
    "import numpy as np\n",
    "import pandas as pd\n",
    "import tensorflow as tf\n",
    "from PIL import Image\n",
    "from tensorflow import keras\n",
    "from tensorflow.keras import Input, Model, layers\n",
    "from tensorflow.keras import backend as K\n",
    "from tensorflow.keras.callbacks import TensorBoard\n",
    "from tensorflow.keras.layers import Dense, LeakyReLU, BatchNormalization, ReLU, Reshape, UpSampling2D, Conv2D, Activation, concatenate, Flatten, Lambda, Concatenate, ZeroPadding2D\n",
    "from tensorflow.keras.layers import add\n",
    "from tensorflow.keras.optimizers import Adam\n",
    "from matplotlib import pyplot as plt\n",
    "\n",
    "# Set up directory structure based on your project root\n",
    "project_dir = \"d:\\\\Masters GIKI\\\\Course Work\\\\Generative AI\\\\Assignments\\\\Assignment 3\\\\Stack-GAN-Implementation\"\n",
    "data_dir = os.path.join(project_dir, \"data\", \"coco\")\n",
    "train_dir = os.path.join(data_dir, \"train\")\n",
    "val_dir = os.path.join(data_dir, \"val\")\n",
    "coco_dataset_dir = os.path.join(project_dir, \"data\", \"coco2014\")\n",
    "models_dir = os.path.join(project_dir, \"model_weights\", \"stage1\")\n",
    "results_dir = os.path.join(project_dir, \"data\", \"results\")\n",
    "\n",
    "# Create results directory if it doesn't exist\n",
    "if not os.path.exists(results_dir):\n",
    "    os.makedirs(results_dir)\n",
    "\n",
    "# Define file paths for COCO subset\n",
    "embeddings_file_path_train = os.path.join(train_dir, \"char-CNN-RNN-embeddings.pickle\")\n",
    "embeddings_file_path_val = os.path.join(val_dir, \"char-CNN-RNN-embeddings.pickle\")\n",
    "filenames_file_path_train = os.path.join(train_dir, \"filenames.pickle\")\n",
    "filenames_file_path_val = os.path.join(val_dir, \"filenames.pickle\")\n",
    "\n",
    "# TensorBoard log directory\n",
    "log_dir = os.path.join(project_dir, \"logs\", str(int(time.time())))\n",
    "summary_writer = tf.summary.create_file_writer(log_dir)\n",
    "\n",
    "\n",
    "class RandomNormalLayer(layers.Layer):\n",
    "    def call(self, inputs):\n",
    "        return tf.random.normal(tf.shape(inputs))\n",
    "\n",
    "\n",
    "class Reparam(layers.Layer):\n",
    "    \"\"\"Reparameterization trick layer to sample from the latent space.\"\"\"\n",
    "    def call(self, inputs):\n",
    "        mu, logvar = inputs\n",
    "        epsilon = tf.random.normal(tf.shape(mu))\n",
    "        return mu + tf.exp(logvar / 2) * epsilon\n",
    "\n",
    "\n",
    "class ReparmLayer(layers.Layer):\n",
    "    \"\"\"Reparameterization trick as a layer.\"\"\"\n",
    "    def call(self, inputs):\n",
    "        mu, logvar = inputs\n",
    "        batch = tf.shape(mu)[0]\n",
    "        dim = tf.shape(mu)[1]\n",
    "        epsilon = tf.random.normal(shape=(batch, dim))\n",
    "        return mu + tf.exp(logvar / 2) * epsilon\n",
    "\n",
    "\n",
    "def build_ca_model(embedding_dim=1024, condition_dim=128):\n",
    "    \"\"\"Get conditioning augmentation model.\"\"\"\n",
    "    input_layer = Input(shape=(embedding_dim,))\n",
    "    x = Dense(256, activation=\"relu\")(input_layer)\n",
    "    mu = Dense(condition_dim)(x)\n",
    "    logvar = Dense(condition_dim)(x)\n",
    "    model = Model(inputs=[input_layer], outputs=[mu, logvar])\n",
    "    return model\n",
    "\n",
    "\n",
    "def build_embedding_compressor_model():\n",
    "    \"\"\"Build embedding compressor model.\"\"\"\n",
    "    input_layer = Input(shape=(1024,))\n",
    "    x = Dense(128)(input_layer)\n",
    "    x = ReLU()(x)\n",
    "    model = Model(inputs=[input_layer], outputs=[x])\n",
    "    return model\n",
    "\n",
    "\n",
    "def generate_c(x):\n",
    "    mean = x[:, :128]\n",
    "    log_sigma = x[:, 128:]\n",
    "    stddev = K.exp(log_sigma)\n",
    "    epsilon = K.random_normal(shape=(K.shape(mean)[1],))\n",
    "    c = stddev * epsilon + mean\n",
    "    return c\n",
    "\n",
    "\n",
    "def build_stage1_generator(z_dim=100, condition_dim=128):\n",
    "    input_layer = layers.Input(shape=(z_dim + condition_dim,))\n",
    "    \n",
    "    x = layers.Dense(4*4*256, use_bias=False)(input_layer)\n",
    "    x = layers.Reshape((4, 4, 256))(x)\n",
    "    x = layers.BatchNormalization()(x)\n",
    "    x = layers.ReLU()(x)\n",
    "\n",
    "    x = layers.Conv2DTranspose(128, (4,4), strides=(2,2), padding=\"same\", use_bias=False)(x)  # (8, 8, 128)\n",
    "    x = layers.BatchNormalization()(x)\n",
    "    x = layers.ReLU()(x)\n",
    "\n",
    "    x = layers.Conv2DTranspose(64, (4,4), strides=(2,2), padding=\"same\", use_bias=False)(x)   # (16, 16, 64)\n",
    "    x = layers.BatchNormalization()(x)\n",
    "    x = layers.ReLU()(x)\n",
    "\n",
    "    x = layers.Conv2DTranspose(32, (4,4), strides=(2,2), padding=\"same\", use_bias=False)(x)   # (32, 32, 32)\n",
    "    x = layers.BatchNormalization()(x)\n",
    "    x = layers.ReLU()(x)\n",
    "\n",
    "    x = layers.Conv2DTranspose(3, (4,4), strides=(2,2), padding=\"same\", use_bias=False)(x)    # (64, 64, 3)\n",
    "    x = layers.Activation(\"tanh\")(x)\n",
    "\n",
    "    model = keras.Model(inputs=input_layer, outputs=x)\n",
    "    return model\n",
    "\n",
    "\n",
    "def residual_block(input_tensor):\n",
    "    \"\"\"Residual block in the generator network.\"\"\"\n",
    "    x = Conv2D(128 * 4, kernel_size=(3, 3), padding='same', strides=1)(input_tensor)\n",
    "    x = BatchNormalization()(x)\n",
    "    x = ReLU()(x)\n",
    "    x = Conv2D(128 * 4, kernel_size=(3, 3), strides=1, padding='same')(x)\n",
    "    x = BatchNormalization()(x)\n",
    "    x = add([x, input_tensor])\n",
    "    x = ReLU()(x)\n",
    "    return x\n",
    "\n",
    "\n",
    "def joint_block(inputs):\n",
    "    c, x = inputs\n",
    "    c = K.expand_dims(c, axis=1)\n",
    "    c = K.expand_dims(c, axis=1)\n",
    "    c = K.tile(c, [1, 16, 16, 1])\n",
    "    return K.concatenate([c, x], axis=3)\n",
    "\n",
    "\n",
    "def build_stage2_generator():\n",
    "    \"\"\"Build Stage-II generator.\"\"\"\n",
    "    input_layer = Input(shape=(1024,))\n",
    "    input_lr_images = Input(shape=(64, 64, 3))\n",
    "\n",
    "    ca = Dense(256)(input_layer)\n",
    "    # Use negative_slope instead of alpha\n",
    "    mean_logsigma = LeakyReLU(negative_slope=0.2)(ca)\n",
    "    c = Lambda(generate_c)(mean_logsigma)\n",
    "\n",
    "    x = ZeroPadding2D(padding=(1, 1))(input_lr_images)\n",
    "    x = Conv2D(128, kernel_size=(3, 3), strides=1, use_bias=False)(x)\n",
    "    x = ReLU()(x)\n",
    "\n",
    "    x = ZeroPadding2D(padding=(1, 1))(x)\n",
    "    x = Conv2D(256, kernel_size=(4, 4), strides=2, use_bias=False)(x)\n",
    "    x = BatchNormalization()(x)\n",
    "    x = ReLU()(x)\n",
    "\n",
    "    x = ZeroPadding2D(padding=(1, 1))(x)\n",
    "    x = Conv2D(512, kernel_size=(4, 4), strides=2, use_bias=False)(x)\n",
    "    x = BatchNormalization()(x)\n",
    "    x = ReLU()(x)\n",
    "\n",
    "    c_code = Lambda(joint_block)([c, x])\n",
    "\n",
    "    x = ZeroPadding2D(padding=(1, 1))(c_code)\n",
    "    x = Conv2D(512, kernel_size=(3, 3), strides=1, use_bias=False)(x)\n",
    "    x = BatchNormalization()(x)\n",
    "    x = ReLU()(x)\n",
    "\n",
    "    for _ in range(4):\n",
    "        x = residual_block(x)\n",
    "\n",
    "    x = UpSampling2D(size=(2, 2))(x)\n",
    "    x = Conv2D(512, kernel_size=3, padding=\"same\", strides=1, use_bias=False)(x)\n",
    "    x = BatchNormalization()(x)\n",
    "    x = ReLU()(x)\n",
    "\n",
    "    x = UpSampling2D(size=(2, 2))(x)\n",
    "    x = Conv2D(256, kernel_size=3, padding=\"same\", strides=1, use_bias=False)(x)\n",
    "    x = BatchNormalization()(x)\n",
    "    x = ReLU()(x)\n",
    "\n",
    "    x = UpSampling2D(size=(2, 2))(x)\n",
    "    x = Conv2D(128, kernel_size=3, padding=\"same\", strides=1, use_bias=False)(x)\n",
    "    x = BatchNormalization()(x)\n",
    "    x = ReLU()(x)\n",
    "\n",
    "    x = UpSampling2D(size=(2, 2))(x)\n",
    "    x = Conv2D(64, kernel_size=3, padding=\"same\", strides=1, use_bias=False)(x)\n",
    "    x = BatchNormalization()(x)\n",
    "    x = ReLU()(x)\n",
    "\n",
    "    x = Conv2D(3, kernel_size=3, padding=\"same\", strides=1, use_bias=False)(x)\n",
    "    x = Activation('tanh')(x)\n",
    "\n",
    "    model = Model(inputs=[input_layer, input_lr_images], outputs=[x, mean_logsigma])\n",
    "    return model\n",
    "\n",
    "\n",
    "def build_stage2_discriminator():\n",
    "    \"\"\"Create Stage-II discriminator network.\"\"\"\n",
    "    input_layer = Input(shape=(256, 256, 3))\n",
    "\n",
    "    x = Conv2D(64, (4, 4), padding='same', strides=2, use_bias=False)(input_layer)\n",
    "    x = LeakyReLU(negative_slope=0.2)(x)\n",
    "\n",
    "    x = Conv2D(128, (4, 4), padding='same', strides=2, use_bias=False)(x)\n",
    "    x = BatchNormalization()(x)\n",
    "    x = LeakyReLU(negative_slope=0.2)(x)\n",
    "\n",
    "    x = Conv2D(256, (4, 4), padding='same', strides=2, use_bias=False)(x)\n",
    "    x = BatchNormalization()(x)\n",
    "    x = LeakyReLU(negative_slope=0.2)(x)\n",
    "\n",
    "    x = Conv2D(512, (4, 4), padding='same', strides=2, use_bias=False)(x)\n",
    "    x = BatchNormalization()(x)\n",
    "    x = LeakyReLU(negative_slope=0.2)(x)\n",
    "\n",
    "    x = Conv2D(1024, (4, 4), padding='same', strides=2, use_bias=False)(x)\n",
    "    x = BatchNormalization()(x)\n",
    "    x = LeakyReLU(negative_slope=0.2)(x)\n",
    "\n",
    "    x = Conv2D(2048, (4, 4), padding='same', strides=2, use_bias=False)(x)\n",
    "    x = BatchNormalization()(x)\n",
    "    x = LeakyReLU(negative_slope=0.2)(x)\n",
    "\n",
    "    x = Conv2D(1024, (1, 1), padding='same', strides=1, use_bias=False)(x)\n",
    "    x = BatchNormalization()(x)\n",
    "    x = LeakyReLU(negative_slope=0.2)(x)\n",
    "\n",
    "    x = Conv2D(512, (1, 1), padding='same', strides=1, use_bias=False)(x)\n",
    "    x = BatchNormalization()(x)\n",
    "\n",
    "    x2 = Conv2D(128, (1, 1), padding='same', strides=1, use_bias=False)(x)\n",
    "    x2 = BatchNormalization()(x2)\n",
    "    x2 = LeakyReLU(negative_slope=0.2)(x2)\n",
    "\n",
    "    x2 = Conv2D(128, (3, 3), padding='same', strides=1, use_bias=False)(x2)\n",
    "    x2 = BatchNormalization()(x2)\n",
    "    x2 = LeakyReLU(negative_slope=0.2)(x2)\n",
    "\n",
    "    x2 = Conv2D(512, (3, 3), padding='same', strides=1, use_bias=False)(x2)\n",
    "    x2 = BatchNormalization()(x2)\n",
    "\n",
    "    added_x = add([x, x2])\n",
    "    added_x = LeakyReLU(negative_slope=0.2)(added_x)\n",
    "\n",
    "    input_layer2 = Input(shape=(4, 4, 128))\n",
    "    merged_input = concatenate([added_x, input_layer2])\n",
    "\n",
    "    x3 = Conv2D(64 * 8, kernel_size=1, padding=\"same\", strides=1)(merged_input)\n",
    "    x3 = BatchNormalization()(x3)\n",
    "    x3 = LeakyReLU(negative_slope=0.2)(x3)\n",
    "    x3 = Flatten()(x3)\n",
    "    x3 = Dense(1)(x3)\n",
    "    x3 = Activation('sigmoid')(x3)\n",
    "\n",
    "    stage2_dis = Model(inputs=[input_layer, input_layer2], outputs=[x3])\n",
    "    return stage2_dis\n",
    "\n",
    "\n",
    "def build_adversarial_model(gen_model2, dis_model, gen_model1):\n",
    "    \"\"\"Create adversarial model.\"\"\"\n",
    "    embeddings_input_layer = Input(shape=(1024,))\n",
    "    noise_input_layer = Input(shape=(100,))\n",
    "    compressed_embedding_input_layer = Input(shape=(4, 4, 128))\n",
    "\n",
    "    gen_model1.trainable = False\n",
    "    dis_model.trainable = False\n",
    "\n",
    "    # Compute c using the single CA model instance\n",
    "    mu, logvar = ca_model(embeddings_input_layer)\n",
    "    \n",
    "    # Use our custom layer for reparameterization\n",
    "    c = ReparmLayer()([mu, logvar])\n",
    "\n",
    "    # Concatenate noise and c for stage1_gen\n",
    "    gen_input = Concatenate(axis=1)([noise_input_layer, c])\n",
    "    lr_images = gen_model1(gen_input)\n",
    "\n",
    "    hr_images, mean_logsigma2 = gen_model2([embeddings_input_layer, lr_images])\n",
    "    valid = dis_model([hr_images, compressed_embedding_input_layer])\n",
    "\n",
    "    model = Model(\n",
    "        inputs=[embeddings_input_layer, noise_input_layer, compressed_embedding_input_layer],\n",
    "        outputs=[valid, mean_logsigma2]\n",
    "    )\n",
    "    return model\n",
    "\n",
    "\n",
    "def load_filenames(filenames_file_path):\n",
    "    \"\"\"Load filenames from filenames.pickle file.\"\"\"\n",
    "    with open(filenames_file_path, 'rb') as f:\n",
    "        filenames = pickle.load(f, encoding='latin1')\n",
    "    return filenames\n",
    "\n",
    "\n",
    "def load_embeddings(embeddings_file_path):\n",
    "    \"\"\"Load embeddings.\"\"\"\n",
    "    with open(embeddings_file_path, 'rb') as f:\n",
    "        embeddings = pickle.load(f, encoding='latin1')\n",
    "        embeddings = np.array(embeddings)\n",
    "        print('Embeddings shape:', embeddings.shape)\n",
    "    return embeddings\n",
    "\n",
    "\n",
    "def get_img(img_path, image_size):\n",
    "    \"\"\"Load and resize images.\"\"\"\n",
    "    img = Image.open(img_path).convert('RGB')\n",
    "    img = img.resize(image_size, PIL.Image.BILINEAR)\n",
    "    return np.array(img)\n",
    "\n",
    "\n",
    "def load_dataset(filenames_file_path, coco_dataset_dir, embeddings_file_path, image_size):\n",
    "    filenames = load_filenames(filenames_file_path)\n",
    "    all_embeddings = load_embeddings(embeddings_file_path)\n",
    "\n",
    "    X, embeddings = [], []\n",
    "    print(\"All embeddings shape:\", all_embeddings.shape)\n",
    "\n",
    "    for index, filename in enumerate(filenames):\n",
    "        try:\n",
    "            img_name = os.path.join(\n",
    "                coco_dataset_dir, \n",
    "                \"train2014\" if \"train\" in filenames_file_path else \"val2014\", \n",
    "                filename\n",
    "            )\n",
    "            img = get_img(img_name, image_size)\n",
    "            all_embeddings1 = all_embeddings[index, :, :]\n",
    "            embedding_ix = random.randint(0, all_embeddings1.shape[0] - 1)\n",
    "            embedding = all_embeddings1[embedding_ix, 0, :]  # Extract (1024,) instead of (1, 1024)\n",
    "            X.append(img)\n",
    "            embeddings.append(embedding)\n",
    "        except Exception as e:\n",
    "            print(f\"Error loading {filename}: {e}\")\n",
    "\n",
    "    X = np.array(X)\n",
    "    embeddings = np.array(embeddings)\n",
    "    return X, embeddings\n",
    "\n",
    "\n",
    "def KL_loss(y_true, y_pred):\n",
    "    mean = y_pred[:, :128]\n",
    "    logsigma = y_pred[:, 128:]\n",
    "    loss = -logsigma + 0.5 * (-1 + K.exp(2. * logsigma) + K.square(mean))\n",
    "    loss = K.mean(loss)\n",
    "    return loss\n",
    "\n",
    "\n",
    "def custom_generator_loss(y_true, y_pred):\n",
    "    return K.binary_crossentropy(y_true, y_pred)\n",
    "\n",
    "\n",
    "def write_log(writer, name, value, step):\n",
    "    \"\"\"Write training summary to TensorBoard.\"\"\"\n",
    "    with writer.as_default():\n",
    "        tf.summary.scalar(name, value, step=step)\n",
    "        writer.flush()\n",
    "\n",
    "\n",
    "def save_rgb_img(img, path):\n",
    "    \"\"\"Save an RGB image.\"\"\"\n",
    "    fig = plt.figure()\n",
    "    ax = fig.add_subplot(1, 1, 1)\n",
    "    ax.imshow(img)\n",
    "    ax.axis(\"off\")\n",
    "    ax.set_title(\"Image\")\n",
    "    plt.savefig(path)\n",
    "    plt.close()\n",
    "\n",
    "\n",
    "# Instantiate the CA model once and reuse it throughout training.\n",
    "ca_model = build_ca_model()\n",
    "\n",
    "if __name__ == '__main__':\n",
    "    hr_image_size = (256, 256)\n",
    "    lr_image_size = (64, 64)\n",
    "    batch_size = 4\n",
    "    z_dim = 100\n",
    "    stage1_generator_lr = 0.0002\n",
    "    stage1_discriminator_lr = 0.0002\n",
    "    epochs = 2\n",
    "    condition_dim = 128\n",
    "    stage1_discriminator_lr = 0.0002\n",
    "    stage1_generator_lr = 0.0002\n",
    "\n",
    "    dis_optimizer = Adam(learning_rate=stage1_discriminator_lr, beta_1=0.5, beta_2=0.999)\n",
    "    gen_optimizer = Adam(learning_rate=stage1_generator_lr, beta_1=0.5, beta_2=0.999)\n",
    "\n",
    "    # Load datasets\n",
    "    X_hr_train, embeddings_train = load_dataset(\n",
    "        filenames_file_path=filenames_file_path_train,\n",
    "        coco_dataset_dir=coco_dataset_dir,\n",
    "        embeddings_file_path=embeddings_file_path_train,\n",
    "        image_size=hr_image_size\n",
    "    )\n",
    "\n",
    "    X_hr_val, embeddings_val = load_dataset(\n",
    "        filenames_file_path=filenames_file_path_val,\n",
    "        coco_dataset_dir=coco_dataset_dir,\n",
    "        embeddings_file_path=embeddings_file_path_val,\n",
    "        image_size=hr_image_size\n",
    "    )\n",
    "\n",
    "    X_lr_train, _ = load_dataset(\n",
    "        filenames_file_path=filenames_file_path_train,\n",
    "        coco_dataset_dir=coco_dataset_dir,\n",
    "        embeddings_file_path=embeddings_file_path_train,\n",
    "        image_size=lr_image_size\n",
    "    )\n",
    "\n",
    "    X_lr_val, _ = load_dataset(\n",
    "        filenames_file_path=filenames_file_path_val,\n",
    "        coco_dataset_dir=coco_dataset_dir,\n",
    "        embeddings_file_path=embeddings_file_path_val,\n",
    "        image_size=lr_image_size\n",
    "    )\n",
    "\n",
    "    # Build and compile models\n",
    "    stage2_dis = build_stage2_discriminator()\n",
    "    stage2_dis.compile(loss='binary_crossentropy', optimizer=dis_optimizer)\n",
    "\n",
    "    stage1_gen = build_stage1_generator()\n",
    "    stage1_gen.compile(loss=\"binary_crossentropy\", optimizer=gen_optimizer)\n",
    "    stage1_gen.load_weights(os.path.join(models_dir, \"stage1_gen_final.weights.h5\"))\n",
    "\n",
    "    stage2_gen = build_stage2_generator()\n",
    "    stage2_gen.compile(loss=\"binary_crossentropy\", optimizer=gen_optimizer)\n",
    "\n",
    "    embedding_compressor_model = build_embedding_compressor_model()\n",
    "    embedding_compressor_model.compile(loss='binary_crossentropy', optimizer='adam')\n",
    "\n",
    "    adversarial_model = build_adversarial_model(stage2_gen, stage2_dis, stage1_gen)\n",
    "    adversarial_model.compile(\n",
    "        loss=['binary_crossentropy', KL_loss],\n",
    "        loss_weights=[1.0, 2.0],\n",
    "        optimizer=gen_optimizer,\n",
    "        metrics=None\n",
    "    )\n",
    "\n",
    "    real_labels = np.ones((batch_size, 1), dtype=float) * 0.9\n",
    "    fake_labels = np.zeros((batch_size, 1), dtype=float) * 0.1\n",
    "\n",
    "    for epoch in range(epochs):\n",
    "        print(\"========================================\")\n",
    "        print(f\"Epoch is: {epoch}\")\n",
    "\n",
    "        gen_losses = []\n",
    "        dis_losses = []\n",
    "\n",
    "        number_of_batches = int(X_hr_train.shape[0] / batch_size)\n",
    "        print(f\"Number of batches: {number_of_batches}\")\n",
    "        for index in range(number_of_batches):\n",
    "            print(f\"Batch: {index + 1}\")\n",
    "\n",
    "            z_noise = np.random.normal(0, 1, size=(batch_size, z_dim))\n",
    "            X_hr_train_batch = X_hr_train[index * batch_size:(index + 1) * batch_size]\n",
    "            embedding_batch = embeddings_train[index * batch_size:(index + 1) * batch_size]\n",
    "            X_hr_train_batch = (X_hr_train_batch - 127.5) / 127.5\n",
    "\n",
    "            # Use the single, pre-built CA model. Wrap the input in a list.\n",
    "            mu, logvar = ca_model.predict_on_batch([embedding_batch])\n",
    "            epsilon = np.random.normal(0, 1, size=(batch_size, condition_dim))\n",
    "            c = mu + np.exp(logvar / 2) * epsilon\n",
    "\n",
    "            # Concatenate z_noise and c\n",
    "            gen_input = np.concatenate([z_noise, c], axis=1)\n",
    "\n",
    "            # Generate low-res images using stage1_gen\n",
    "            lr_fake_images = stage1_gen.predict_on_batch(gen_input)\n",
    "            hr_fake_images, _ = stage2_gen.predict([embedding_batch, lr_fake_images], verbose=3)\n",
    "\n",
    "            compressed_embedding = embedding_compressor_model.predict_on_batch(embedding_batch)\n",
    "            compressed_embedding = np.reshape(compressed_embedding, (-1, 1, 1, condition_dim))\n",
    "            compressed_embedding = np.tile(compressed_embedding, (1, 4, 4, 1))\n",
    "\n",
    "            dis_loss_real = stage2_dis.train_on_batch(\n",
    "                [X_hr_train_batch, compressed_embedding],\n",
    "                np.reshape(real_labels, (batch_size, 1))\n",
    "            )\n",
    "            dis_loss_fake = stage2_dis.train_on_batch(\n",
    "                [hr_fake_images, compressed_embedding],\n",
    "                np.reshape(fake_labels, (batch_size, 1))\n",
    "            )\n",
    "            dis_loss_wrong = stage2_dis.train_on_batch(\n",
    "                [X_hr_train_batch[:(batch_size - 1)], compressed_embedding[1:]],\n",
    "                np.reshape(fake_labels[1:], (batch_size - 1, 1))\n",
    "            )\n",
    "            d_loss = 0.5 * np.add(dis_loss_real, 0.5 * np.add(dis_loss_wrong, dis_loss_fake))\n",
    "            print(f\"d_loss: {d_loss}\")\n",
    "\n",
    "            g_loss = adversarial_model.train_on_batch(\n",
    "                [embedding_batch, z_noise, compressed_embedding],\n",
    "                [K.ones((batch_size, 1)) * 0.9, K.ones((batch_size, 256)) * 0.9]\n",
    "            )\n",
    "            print(f\"g_loss: {g_loss}\")\n",
    "\n",
    "            dis_losses.append(d_loss)\n",
    "            gen_losses.append(g_loss)\n",
    "\n",
    "        write_log(summary_writer, 'discriminator_loss', np.mean(dis_losses), epoch)\n",
    "        write_log(summary_writer, 'generator_loss', np.mean(gen_losses)[0], epoch)\n",
    "\n",
    "        if epoch % 2 == 0:\n",
    "            z_noise2 = np.random.normal(0, 1, size=(batch_size, z_dim))\n",
    "            embedding_batch = embeddings_val[0:batch_size]\n",
    "\n",
    "            # Compute c for validation using the single CA model.\n",
    "            mu, logvar = ca_model.predict_on_batch([embedding_batch])\n",
    "            epsilon = np.random.normal(0, 1, size=(batch_size, condition_dim))\n",
    "            c = mu + np.exp(logvar / 2) * epsilon\n",
    "            gen_input = np.concatenate([z_noise2, c], axis=1)\n",
    "\n",
    "            lr_fake_images = stage1_gen.predict_on_batch(gen_input)\n",
    "            hr_fake_images, _ = stage2_gen.predict([embedding_batch, lr_fake_images], verbose=3)\n",
    "\n",
    "            for i, img in enumerate(hr_fake_images[:10]):\n",
    "                save_rgb_img(img, os.path.join(results_dir, f\"gen_{epoch}_{i}.png\"))\n",
    "\n",
    "    # Save the models\n",
    "    stage2_gen.save_weights(os.path.join(models_dir, \"stage2_gen.h5\"))\n",
    "    stage2_dis.save_weights(os.path.join(models_dir, \"stage2_dis.h5\"))\n"
   ]
  }
 ],
 "metadata": {
  "kernelspec": {
   "display_name": "generalEnv",
   "language": "python",
   "name": "python3"
  },
  "language_info": {
   "codemirror_mode": {
    "name": "ipython",
    "version": 3
   },
   "file_extension": ".py",
   "mimetype": "text/x-python",
   "name": "python",
   "nbconvert_exporter": "python",
   "pygments_lexer": "ipython3",
   "version": "3.12.0"
  }
 },
 "nbformat": 4,
 "nbformat_minor": 2
}
